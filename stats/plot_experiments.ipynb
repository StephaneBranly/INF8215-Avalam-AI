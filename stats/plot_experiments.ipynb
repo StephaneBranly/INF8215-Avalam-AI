{
 "cells": [
  {
   "cell_type": "markdown",
   "metadata": {},
   "source": [
    "# Notebook used to manipulate some produced data"
   ]
  },
  {
   "cell_type": "markdown",
   "metadata": {},
   "source": [
    "## Import of librairies"
   ]
  },
  {
   "cell_type": "code",
   "execution_count": 1,
   "metadata": {},
   "outputs": [],
   "source": [
    "import seaborn as sns\n",
    "import matplotlib.pyplot as plt\n",
    "import pandas as pd\n",
    "import numpy as np\n",
    "import matplotlib.patches as mpatches"
   ]
  },
  {
   "cell_type": "markdown",
   "metadata": {},
   "source": [
    "## Plots of game results"
   ]
  },
  {
   "cell_type": "code",
   "execution_count": 2,
   "metadata": {},
   "outputs": [],
   "source": [
    "df = pd.read_csv('game_results.csv', sep=';', index_col=0)"
   ]
  },
  {
   "cell_type": "code",
   "execution_count": 3,
   "metadata": {},
   "outputs": [],
   "source": [
    "df['Scores'] = df['Scores'].apply(lambda x: [int(a) for a in x.replace('[', '').replace(']', '').replace(' ', '').split(',')])\n",
    "df['mean_scores'] = df['Scores'].apply(lambda x: np.mean(x))"
   ]
  },
  {
   "cell_type": "code",
   "execution_count": 4,
   "metadata": {},
   "outputs": [],
   "source": [
    "df['Steps'] = df['Steps'].apply(lambda x: [int(a) for a in x.replace('[', '').replace(']', '').replace(' ', '').split(',')])"
   ]
  },
  {
   "cell_type": "code",
   "execution_count": 5,
   "metadata": {},
   "outputs": [
    {
     "data": {
      "text/plain": [
       "Pool id\n",
       "0    -0.06\n",
       "1     0.36\n",
       "2     0.83\n",
       "3     0.84\n",
       "4     0.27\n",
       "5     0.07\n",
       "6     0.21\n",
       "7     0.35\n",
       "8     0.01\n",
       "9     0.54\n",
       "10    0.23\n",
       "11    0.47\n",
       "12    0.24\n",
       "13    0.37\n",
       "Name: mean_scores, dtype: float64"
      ]
     },
     "execution_count": 5,
     "metadata": {},
     "output_type": "execute_result"
    }
   ],
   "source": [
    "df['mean_scores']"
   ]
  },
  {
   "cell_type": "code",
   "execution_count": 6,
   "metadata": {},
   "outputs": [
    {
     "data": {
      "text/html": [
       "<div>\n",
       "<style scoped>\n",
       "    .dataframe tbody tr th:only-of-type {\n",
       "        vertical-align: middle;\n",
       "    }\n",
       "\n",
       "    .dataframe tbody tr th {\n",
       "        vertical-align: top;\n",
       "    }\n",
       "\n",
       "    .dataframe thead th {\n",
       "        text-align: right;\n",
       "    }\n",
       "</style>\n",
       "<table border=\"1\" class=\"dataframe\">\n",
       "  <thead>\n",
       "    <tr style=\"text-align: right;\">\n",
       "      <th></th>\n",
       "      <th>Agent -1</th>\n",
       "      <th>Agent 1</th>\n",
       "      <th>Scores</th>\n",
       "      <th>Steps</th>\n",
       "      <th>mean_scores</th>\n",
       "    </tr>\n",
       "    <tr>\n",
       "      <th>Pool id</th>\n",
       "      <th></th>\n",
       "      <th></th>\n",
       "      <th></th>\n",
       "      <th></th>\n",
       "      <th></th>\n",
       "    </tr>\n",
       "  </thead>\n",
       "  <tbody>\n",
       "    <tr>\n",
       "      <th>0</th>\n",
       "      <td>Step Analyst Player 1 | False</td>\n",
       "      <td>Step Analyst Player 1 | True</td>\n",
       "      <td>[1, 1, -1, 4, 2, -1, -4, -1, 7, -1, 1, -3, -1,...</td>\n",
       "      <td>[36, 35, 35, 36, 34, 37, 34, 36, 35, 35, 35, 3...</td>\n",
       "      <td>-0.06</td>\n",
       "    </tr>\n",
       "    <tr>\n",
       "      <th>1</th>\n",
       "      <td>Step Analyst Player 2 | False</td>\n",
       "      <td>Step Analyst Player 2 | True</td>\n",
       "      <td>[-1, 3, -2, -2, 2, 1, 4, 4, -5, -1, 3, 1, 9, -...</td>\n",
       "      <td>[36, 37, 36, 34, 36, 35, 36, 36, 35, 37, 35, 3...</td>\n",
       "      <td>0.36</td>\n",
       "    </tr>\n",
       "  </tbody>\n",
       "</table>\n",
       "</div>"
      ],
      "text/plain": [
       "                              Agent -1                       Agent 1  \\\n",
       "Pool id                                                                \n",
       "0        Step Analyst Player 1 | False  Step Analyst Player 1 | True   \n",
       "1        Step Analyst Player 2 | False  Step Analyst Player 2 | True   \n",
       "\n",
       "                                                    Scores  \\\n",
       "Pool id                                                      \n",
       "0        [1, 1, -1, 4, 2, -1, -4, -1, 7, -1, 1, -3, -1,...   \n",
       "1        [-1, 3, -2, -2, 2, 1, 4, 4, -5, -1, 3, 1, 9, -...   \n",
       "\n",
       "                                                     Steps  mean_scores  \n",
       "Pool id                                                                  \n",
       "0        [36, 35, 35, 36, 34, 37, 34, 36, 35, 35, 35, 3...        -0.06  \n",
       "1        [36, 37, 36, 34, 36, 35, 36, 36, 35, 37, 35, 3...         0.36  "
      ]
     },
     "execution_count": 6,
     "metadata": {},
     "output_type": "execute_result"
    }
   ],
   "source": [
    "df.head(2)"
   ]
  },
  {
   "cell_type": "markdown",
   "metadata": {},
   "source": [
    "See pools tendencies"
   ]
  },
  {
   "cell_type": "code",
   "execution_count": null,
   "metadata": {},
   "outputs": [],
   "source": [
    "sns.set_theme()\n",
    "x_ticks = np.arange(-20, 22, 2)\n",
    "y_ticks = np.arange(0, len(df['Scores']), 1)\n",
    "\n",
    "fig = sns.violinplot(data=df['Scores'], palette=\"flare\", inner=\"points\", orient=\"h\")\n",
    "# Tendency of the mean score\n",
    "z = np.polyfit(y_ticks, df['mean_scores'], 1)\n",
    "p = np.poly1d(z)\n",
    "fig.plot(p(y_ticks), y_ticks, c=\"green\", ls=\":\", label=\"Tendency\", linewidth=2)\n",
    "fig.set(xlim=(-20, 20))\n",
    "rect_p1=mpatches.Rectangle((0,-1),20,5, alpha=0.1,facecolor=\"red\")\n",
    "rect_m1=mpatches.Rectangle((-20,-1),20,5, alpha=0.1,facecolor=\"blue\")\n",
    "\n",
    "fig.set(title='Score distribution for each pool', xlabel='Scores', ylabel='Pool', xticks=x_ticks)\n",
    "fig.set_xticklabels(x_ticks, rotation=45)\n",
    "fig.text(10, -0.1, 'Player +1', fontsize = 10, color='red', ha='center')\n",
    "fig.text(-10, -0.1, 'Player -1', fontsize = 10, color='blue', ha='center')\n",
    "fig.add_line(plt.axvline(x=0, color='grey', linestyle='--'))\n",
    "fig.add_patch(rect_p1)\n",
    "fig.add_patch(rect_m1)\n",
    "\n",
    "for row in df.iterrows():\n",
    "    fig.text(-20, row[0]+0.2, str(row[1]['Agent -1']), color='grey', ha=\"left\", fontsize=8)\n",
    "    fig.text(20, row[0]+0.2, str(row[1]['Agent 1']), color='grey', ha=\"right\", fontsize=8)"
   ]
  },
  {
   "cell_type": "markdown",
   "metadata": {},
   "source": [
    "See step distribution for each pool"
   ]
  },
  {
   "cell_type": "code",
   "execution_count": null,
   "metadata": {},
   "outputs": [],
   "source": [
    "sns.set_theme()\n",
    "x_ticks = np.arange(20, 46, 2)\n",
    "y_ticks = np.arange(0, len(df['Steps']), 1)\n",
    "\n",
    "fig = sns.violinplot(data=df['Steps'], palette=\"flare\", inner=\"points\", orient=\"h\")\n",
    "fig.set(xlim=(20, 46))\n",
    "\n",
    "fig.set(title='Step distribution for each pool', xlabel='Steps', ylabel='Pool', xticks=x_ticks)\n",
    "fig.set_xticklabels(x_ticks, rotation=45)\n"
   ]
  },
  {
   "cell_type": "markdown",
   "metadata": {},
   "source": [
    "See pool results"
   ]
  },
  {
   "cell_type": "code",
   "execution_count": 274,
   "metadata": {},
   "outputs": [],
   "source": [
    "df = pd.read_csv('pool_results.csv', sep=';', index_col=0)"
   ]
  },
  {
   "cell_type": "code",
   "execution_count": null,
   "metadata": {},
   "outputs": [],
   "source": [
    "\n",
    "df['Cumulative_m1'] = df['Pct Agent -1'] * 100\n",
    "\n",
    "df['Cumulative_draw'] = df['Pct Draw']*100 + df['Pct Agent -1']*100\n",
    "df['Cumulative_p1'] = df['Cumulative_draw'] + df['Pct Agent 1']*100\n",
    "\n",
    "bar_p1 = sns.barplot(x=df.index, y=\"Cumulative_p1\", data=df, color='red')\n",
    "bar_draw = sns.barplot(x=df.index, y=\"Cumulative_draw\", data=df, color='orange')\n",
    "bar_m1 = sns.barplot(x=df.index, y=\"Cumulative_m1\", data=df, color='blue')\n",
    "\n",
    "\n",
    "m1_bar = mpatches.Patch(color='blue', label='Agent -1')\n",
    "draw_bar = mpatches.Patch(color='orange', label='Draw')\n",
    "p1_bar = mpatches.Patch(color='red', label='Agent 1')\n",
    "\n",
    "for row in df.iterrows():\n",
    "    if row[1]['Pct Agent -1'] != 0:\n",
    "        plt.text(row[0], 1,str(row[1]['Agent -1']), color='white', ha=\"center\", fontsize=8)\n",
    "        plt.text(row[0], row[1]['Cumulative_m1']/2, str(int(row[1]['Pct Agent -1']*100))+'%', color='white', ha=\"center\", fontsize=9)\n",
    "    if row[1]['Pct Draw'] != 0:\n",
    "        plt.text(row[0], row[1]['Cumulative_m1']+1, 'Draw', color='white', ha=\"center\", fontsize=8)\n",
    "        plt.text(row[0], row[1]['Cumulative_m1']+row[1]['Pct Draw']*50, str(int(row[1]['Pct Draw']*100))+'%', color='white', ha=\"center\", fontsize=9)\n",
    "    if row[1]['Pct Agent 1'] != 0:\n",
    "        plt.text(row[0], row[1]['Cumulative_draw']+1,str(row[1]['Agent 1']), color='white', ha=\"center\", fontsize=8)\n",
    "        plt.text(row[0], row[1]['Cumulative_draw']+row[1]['Pct Agent 1']*50, str(int(row[1]['Pct Agent 1']*100))+'%', color='white', ha=\"center\", fontsize=9)\n",
    "\n",
    "\n",
    "plt.ylim((0,100))\n",
    "plt.title('Pourcentage of win for each agent in each pool')\n",
    "plt.ylabel('Pourcentage')\n",
    "plt.legend(handles=[m1_bar, draw_bar, p1_bar])\n",
    "plt.show()\n"
   ]
  },
  {
   "cell_type": "markdown",
   "metadata": {},
   "source": [
    "## Plot of genetics algorithm"
   ]
  },
  {
   "cell_type": "code",
   "execution_count": 19,
   "metadata": {},
   "outputs": [],
   "source": [
    "import json\n",
    "params_df = {}\n",
    "nb_gen = 14\n",
    "nb_ind = 10\n",
    "for gen in range(14):\n",
    "    filename = f\"../NN_MT2/gen{gen}.json\"\n",
    "\n",
    "    with open(filename) as f:\n",
    "        listObj = json.load(f)\n",
    "        for ind in range(10):\n",
    "            for param in range(len(listObj['gen'][ind]['parameters'])):\n",
    "                if param not in params_df:\n",
    "                    params_df[param] = pd.DataFrame()\n",
    "                params_df[param].loc[gen, ind] = listObj['gen'][ind]['parameters'][param]"
   ]
  },
  {
   "cell_type": "code",
   "execution_count": 87,
   "metadata": {},
   "outputs": [
    {
     "data": {
      "text/plain": [
       "(14, 10)"
      ]
     },
     "execution_count": 87,
     "metadata": {},
     "output_type": "execute_result"
    }
   ],
   "source": [
    "params_df[0]"
   ]
  },
  {
   "cell_type": "code",
   "execution_count": 26,
   "metadata": {},
   "outputs": [
    {
     "data": {
      "text/plain": [
       "0   -0.058222\n",
       "1   -0.579322\n",
       "2   -0.215989\n",
       "3    0.844692\n",
       "4    0.259493\n",
       "5   -0.255051\n",
       "6   -0.758268\n",
       "7   -0.883194\n",
       "8    0.286370\n",
       "9    0.820507\n",
       "Name: 0, dtype: float64"
      ]
     },
     "execution_count": 26,
     "metadata": {},
     "output_type": "execute_result"
    }
   ],
   "source": [
    "params_df[0].iloc[0,:]"
   ]
  },
  {
   "cell_type": "markdown",
   "metadata": {},
   "source": [
    "See eventual parameter convergence"
   ]
  },
  {
   "cell_type": "code",
   "execution_count": 80,
   "metadata": {},
   "outputs": [],
   "source": [
    "param = 4\n",
    "\n",
    "def plot_param_evolution(param, function_name=None):\n",
    "    x_ticks = np.arange(0, nb_gen, 1)\n",
    "    y_ticks = np.arange(-1, 1.1, 0.1)\n",
    "\n",
    "    fig=plt.figure()\n",
    "    ax=fig.add_subplot(111)\n",
    "\n",
    "\n",
    "    var = params_df[param].var(axis=1)\n",
    "    mean = params_df[param].mean(axis=1)\n",
    "    for ind in range(nb_ind):\n",
    "        ax.plot(params_df[param].index, params_df[param].iloc[:, ind], c='#666', linewidth=.5, label=None, fillstyle='none')\n",
    "\n",
    "    ax.plot(params_df[param].index, var, c='#FA5', label=f\"Diversity\", fillstyle='none')\n",
    "    ax.plot(params_df[param].index, mean, c='#3AD', linewidth=2, label=f\"Mean value\", fillstyle='none', marker=\"+\", markersize=10)\n",
    "\n",
    "    ax.set(title=f\"Evolution of the parameter {param} {'used for '+function_name if function_name else ''}\", xlabel='Generation', ylabel='Parameter value', xticks=x_ticks)\n",
    "    ax.set_xticklabels(x_ticks, rotation=45)\n",
    "    ax.add_line(plt.axhline(y=0, color='grey', linestyle='--'))\n",
    "    ax.set(ylim=(-1, 1))\n",
    "    ax.set(xlim=(0, nb_gen-1))\n",
    "    ax.text(nb_gen-1.1, mean[nb_gen-1], round(mean[nb_gen-1],2), fontsize = 15, color='darkblue', ha='right')\n",
    "    plt.legend(loc='best')"
   ]
  },
  {
   "cell_type": "code",
   "execution_count": 86,
   "metadata": {},
   "outputs": [
    {
     "data": {
      "text/plain": [
       "(14, 10)"
      ]
     },
     "execution_count": 86,
     "metadata": {},
     "output_type": "execute_result"
    }
   ],
   "source": [
    "params_df[0].shape"
   ]
  },
  {
   "cell_type": "code",
   "execution_count": null,
   "metadata": {},
   "outputs": [],
   "source": [
    "from matplotlib.backends.backend_pdf import PdfPages \n",
    "with PdfPages(f\"test.pdf\") as pdf:\n",
    "        for a in range(5):\n",
    "            fig = plot_param_evolution(a, 'ete')\n",
    "            pdf.savefig(fig)"
   ]
  },
  {
   "cell_type": "markdown",
   "metadata": {},
   "source": [
    "## See tendency of available actions count depending on current step"
   ]
  },
  {
   "cell_type": "code",
   "execution_count": 82,
   "metadata": {},
   "outputs": [],
   "source": [
    "df = pd.read_csv('available_actions.csv', sep=',', header=None)"
   ]
  },
  {
   "cell_type": "code",
   "execution_count": 90,
   "metadata": {},
   "outputs": [
    {
     "data": {
      "text/plain": [
       "(83844, 51)"
      ]
     },
     "execution_count": 90,
     "metadata": {},
     "output_type": "execute_result"
    }
   ],
   "source": [
    "df = df[df[33] != 0]\n",
    "df.shape"
   ]
  },
  {
   "cell_type": "code",
   "execution_count": 91,
   "metadata": {},
   "outputs": [
    {
     "data": {
      "image/png": "[encoded data removed]",
      "text/plain": [
       "<Figure size 640x480 with 1 Axes>"
      ]
     },
     "metadata": {},
     "output_type": "display_data"
    }
   ],
   "source": [
    "ax = sns.boxplot(data=df)\n",
    "ax.plot(df.mean(axis=0), color='red', linewidth=2, label='Mean', linestyle='--')\n",
    "ax.set_title(\"Number of available actions per step\")\n",
    "ax.set_xlabel(\"Step\")\n",
    "ax.set_xlim((0, 40))\n",
    "ticks = np.arange(0, 40, 5)\n",
    "ax.set_xticks(ticks)\n",
    "ax.set_xticklabels(ticks,)\n",
    "_ = ax.set_ylabel(\"Number of available actions\")"
   ]
  },
  {
   "cell_type": "code",
   "execution_count": 38,
   "metadata": {},
   "outputs": [],
   "source": [
    "df_mean = pd.DataFrame({ 'mean': df.mean(axis=0), 'fac': np.ones(df.shape[1])})"
   ]
  },
  {
   "cell_type": "code",
   "execution_count": 59,
   "metadata": {},
   "outputs": [
    {
     "data": {
      "text/html": [
       "<div>\n",
       "<style scoped>\n",
       "    .dataframe tbody tr th:only-of-type {\n",
       "        vertical-align: middle;\n",
       "    }\n",
       "\n",
       "    .dataframe tbody tr th {\n",
       "        vertical-align: top;\n",
       "    }\n",
       "\n",
       "    .dataframe thead th {\n",
       "        text-align: right;\n",
       "    }\n",
       "</style>\n",
       "<table border=\"1\" class=\"dataframe\">\n",
       "  <thead>\n",
       "    <tr style=\"text-align: right;\">\n",
       "      <th></th>\n",
       "      <th>mean</th>\n",
       "      <th>fac</th>\n",
       "    </tr>\n",
       "  </thead>\n",
       "  <tbody>\n",
       "    <tr>\n",
       "      <th>0</th>\n",
       "      <td>292.0</td>\n",
       "      <td>1.055155e+64</td>\n",
       "    </tr>\n",
       "    <tr>\n",
       "      <th>1</th>\n",
       "      <td>278.0</td>\n",
       "      <td>3.613543e+61</td>\n",
       "    </tr>\n",
       "    <tr>\n",
       "      <th>2</th>\n",
       "      <td>265.8</td>\n",
       "      <td>1.299836e+59</td>\n",
       "    </tr>\n",
       "    <tr>\n",
       "      <th>3</th>\n",
       "      <td>253.1</td>\n",
       "      <td>4.890277e+56</td>\n",
       "    </tr>\n",
       "    <tr>\n",
       "      <th>4</th>\n",
       "      <td>241.3</td>\n",
       "      <td>1.932152e+54</td>\n",
       "    </tr>\n",
       "    <tr>\n",
       "      <th>5</th>\n",
       "      <td>228.0</td>\n",
       "      <td>8.007261e+51</td>\n",
       "    </tr>\n",
       "    <tr>\n",
       "      <th>6</th>\n",
       "      <td>215.7</td>\n",
       "      <td>3.511957e+49</td>\n",
       "    </tr>\n",
       "    <tr>\n",
       "      <th>7</th>\n",
       "      <td>204.8</td>\n",
       "      <td>1.628167e+47</td>\n",
       "    </tr>\n",
       "    <tr>\n",
       "      <th>8</th>\n",
       "      <td>194.4</td>\n",
       "      <td>7.950035e+44</td>\n",
       "    </tr>\n",
       "    <tr>\n",
       "      <th>9</th>\n",
       "      <td>184.4</td>\n",
       "      <td>4.089524e+42</td>\n",
       "    </tr>\n",
       "    <tr>\n",
       "      <th>10</th>\n",
       "      <td>174.0</td>\n",
       "      <td>2.217746e+40</td>\n",
       "    </tr>\n",
       "    <tr>\n",
       "      <th>11</th>\n",
       "      <td>164.0</td>\n",
       "      <td>1.274567e+38</td>\n",
       "    </tr>\n",
       "    <tr>\n",
       "      <th>12</th>\n",
       "      <td>154.2</td>\n",
       "      <td>7.771749e+35</td>\n",
       "    </tr>\n",
       "    <tr>\n",
       "      <th>13</th>\n",
       "      <td>144.0</td>\n",
       "      <td>5.040045e+33</td>\n",
       "    </tr>\n",
       "    <tr>\n",
       "      <th>14</th>\n",
       "      <td>133.9</td>\n",
       "      <td>3.500031e+31</td>\n",
       "    </tr>\n",
       "    <tr>\n",
       "      <th>15</th>\n",
       "      <td>124.4</td>\n",
       "      <td>2.613914e+29</td>\n",
       "    </tr>\n",
       "    <tr>\n",
       "      <th>16</th>\n",
       "      <td>114.8</td>\n",
       "      <td>2.101217e+27</td>\n",
       "    </tr>\n",
       "    <tr>\n",
       "      <th>17</th>\n",
       "      <td>105.1</td>\n",
       "      <td>1.830329e+25</td>\n",
       "    </tr>\n",
       "    <tr>\n",
       "      <th>18</th>\n",
       "      <td>96.6</td>\n",
       "      <td>1.741511e+23</td>\n",
       "    </tr>\n",
       "    <tr>\n",
       "      <th>19</th>\n",
       "      <td>88.3</td>\n",
       "      <td>1.802807e+21</td>\n",
       "    </tr>\n",
       "    <tr>\n",
       "      <th>20</th>\n",
       "      <td>80.2</td>\n",
       "      <td>2.041684e+19</td>\n",
       "    </tr>\n",
       "    <tr>\n",
       "      <th>21</th>\n",
       "      <td>73.1</td>\n",
       "      <td>2.545741e+17</td>\n",
       "    </tr>\n",
       "    <tr>\n",
       "      <th>22</th>\n",
       "      <td>65.8</td>\n",
       "      <td>3.482545e+15</td>\n",
       "    </tr>\n",
       "    <tr>\n",
       "      <th>23</th>\n",
       "      <td>57.1</td>\n",
       "      <td>5.292622e+13</td>\n",
       "    </tr>\n",
       "    <tr>\n",
       "      <th>24</th>\n",
       "      <td>50.7</td>\n",
       "      <td>9.269040e+11</td>\n",
       "    </tr>\n",
       "    <tr>\n",
       "      <th>25</th>\n",
       "      <td>43.9</td>\n",
       "      <td>1.828213e+10</td>\n",
       "    </tr>\n",
       "    <tr>\n",
       "      <th>26</th>\n",
       "      <td>37.7</td>\n",
       "      <td>4.164494e+08</td>\n",
       "    </tr>\n",
       "    <tr>\n",
       "      <th>27</th>\n",
       "      <td>32.1</td>\n",
       "      <td>1.104640e+07</td>\n",
       "    </tr>\n",
       "    <tr>\n",
       "      <th>28</th>\n",
       "      <td>26.2</td>\n",
       "      <td>3.441247e+05</td>\n",
       "    </tr>\n",
       "    <tr>\n",
       "      <th>29</th>\n",
       "      <td>21.5</td>\n",
       "      <td>1.313453e+04</td>\n",
       "    </tr>\n",
       "    <tr>\n",
       "      <th>30</th>\n",
       "      <td>15.6</td>\n",
       "      <td>6.109085e+02</td>\n",
       "    </tr>\n",
       "    <tr>\n",
       "      <th>31</th>\n",
       "      <td>11.2</td>\n",
       "      <td>3.916080e+01</td>\n",
       "    </tr>\n",
       "    <tr>\n",
       "      <th>32</th>\n",
       "      <td>7.4</td>\n",
       "      <td>3.496500e+00</td>\n",
       "    </tr>\n",
       "    <tr>\n",
       "      <th>33</th>\n",
       "      <td>4.5</td>\n",
       "      <td>4.725000e-01</td>\n",
       "    </tr>\n",
       "    <tr>\n",
       "      <th>34</th>\n",
       "      <td>2.1</td>\n",
       "      <td>1.050000e-01</td>\n",
       "    </tr>\n",
       "    <tr>\n",
       "      <th>35</th>\n",
       "      <td>0.5</td>\n",
       "      <td>5.000000e-02</td>\n",
       "    </tr>\n",
       "    <tr>\n",
       "      <th>36</th>\n",
       "      <td>0.1</td>\n",
       "      <td>1.000000e-01</td>\n",
       "    </tr>\n",
       "    <tr>\n",
       "      <th>37</th>\n",
       "      <td>0.0</td>\n",
       "      <td>1.000000e+00</td>\n",
       "    </tr>\n",
       "    <tr>\n",
       "      <th>38</th>\n",
       "      <td>0.0</td>\n",
       "      <td>1.000000e+00</td>\n",
       "    </tr>\n",
       "    <tr>\n",
       "      <th>39</th>\n",
       "      <td>0.0</td>\n",
       "      <td>1.000000e+00</td>\n",
       "    </tr>\n",
       "    <tr>\n",
       "      <th>40</th>\n",
       "      <td>0.0</td>\n",
       "      <td>1.000000e+00</td>\n",
       "    </tr>\n",
       "    <tr>\n",
       "      <th>41</th>\n",
       "      <td>0.0</td>\n",
       "      <td>1.000000e+00</td>\n",
       "    </tr>\n",
       "    <tr>\n",
       "      <th>42</th>\n",
       "      <td>0.0</td>\n",
       "      <td>1.000000e+00</td>\n",
       "    </tr>\n",
       "    <tr>\n",
       "      <th>43</th>\n",
       "      <td>0.0</td>\n",
       "      <td>1.000000e+00</td>\n",
       "    </tr>\n",
       "    <tr>\n",
       "      <th>44</th>\n",
       "      <td>0.0</td>\n",
       "      <td>1.000000e+00</td>\n",
       "    </tr>\n",
       "    <tr>\n",
       "      <th>45</th>\n",
       "      <td>0.0</td>\n",
       "      <td>1.000000e+00</td>\n",
       "    </tr>\n",
       "    <tr>\n",
       "      <th>46</th>\n",
       "      <td>0.0</td>\n",
       "      <td>1.000000e+00</td>\n",
       "    </tr>\n",
       "    <tr>\n",
       "      <th>47</th>\n",
       "      <td>0.0</td>\n",
       "      <td>1.000000e+00</td>\n",
       "    </tr>\n",
       "    <tr>\n",
       "      <th>48</th>\n",
       "      <td>0.0</td>\n",
       "      <td>1.000000e+00</td>\n",
       "    </tr>\n",
       "    <tr>\n",
       "      <th>49</th>\n",
       "      <td>0.0</td>\n",
       "      <td>1.000000e+00</td>\n",
       "    </tr>\n",
       "    <tr>\n",
       "      <th>50</th>\n",
       "      <td>0.0</td>\n",
       "      <td>1.000000e+00</td>\n",
       "    </tr>\n",
       "  </tbody>\n",
       "</table>\n",
       "</div>"
      ],
      "text/plain": [
       "     mean           fac\n",
       "0   292.0  1.055155e+64\n",
       "1   278.0  3.613543e+61\n",
       "2   265.8  1.299836e+59\n",
       "3   253.1  4.890277e+56\n",
       "4   241.3  1.932152e+54\n",
       "5   228.0  8.007261e+51\n",
       "6   215.7  3.511957e+49\n",
       "7   204.8  1.628167e+47\n",
       "8   194.4  7.950035e+44\n",
       "9   184.4  4.089524e+42\n",
       "10  174.0  2.217746e+40\n",
       "11  164.0  1.274567e+38\n",
       "12  154.2  7.771749e+35\n",
       "13  144.0  5.040045e+33\n",
       "14  133.9  3.500031e+31\n",
       "15  124.4  2.613914e+29\n",
       "16  114.8  2.101217e+27\n",
       "17  105.1  1.830329e+25\n",
       "18   96.6  1.741511e+23\n",
       "19   88.3  1.802807e+21\n",
       "20   80.2  2.041684e+19\n",
       "21   73.1  2.545741e+17\n",
       "22   65.8  3.482545e+15\n",
       "23   57.1  5.292622e+13\n",
       "24   50.7  9.269040e+11\n",
       "25   43.9  1.828213e+10\n",
       "26   37.7  4.164494e+08\n",
       "27   32.1  1.104640e+07\n",
       "28   26.2  3.441247e+05\n",
       "29   21.5  1.313453e+04\n",
       "30   15.6  6.109085e+02\n",
       "31   11.2  3.916080e+01\n",
       "32    7.4  3.496500e+00\n",
       "33    4.5  4.725000e-01\n",
       "34    2.1  1.050000e-01\n",
       "35    0.5  5.000000e-02\n",
       "36    0.1  1.000000e-01\n",
       "37    0.0  1.000000e+00\n",
       "38    0.0  1.000000e+00\n",
       "39    0.0  1.000000e+00\n",
       "40    0.0  1.000000e+00\n",
       "41    0.0  1.000000e+00\n",
       "42    0.0  1.000000e+00\n",
       "43    0.0  1.000000e+00\n",
       "44    0.0  1.000000e+00\n",
       "45    0.0  1.000000e+00\n",
       "46    0.0  1.000000e+00\n",
       "47    0.0  1.000000e+00\n",
       "48    0.0  1.000000e+00\n",
       "49    0.0  1.000000e+00\n",
       "50    0.0  1.000000e+00"
      ]
     },
     "execution_count": 59,
     "metadata": {},
     "output_type": "execute_result"
    }
   ],
   "source": [
    "df_mean\n",
    "for i in range(50):\n",
    "    df_mean.loc[i, 'fac'] = 1\n",
    "    for j in range(i, 50):\n",
    "        df_mean.loc[i, 'fac'] *= df_mean.loc[j, 'mean'] if df_mean.loc[j, 'mean'] > 0 else 1\n",
    "df_mean"
   ]
  },
  {
   "cell_type": "markdown",
   "metadata": {},
   "source": [
    "## See an eventual importance of step"
   ]
  },
  {
   "cell_type": "markdown",
   "metadata": {},
   "source": [
    "Run ```python3 ./game.py --headless --no-gui -M -G 100 -P 40 --stats```\n",
    "using two ```StepAnalystPlayer```"
   ]
  },
  {
   "cell_type": "code",
   "execution_count": 92,
   "metadata": {},
   "outputs": [
    {
     "data": {
      "text/html": [
       "<div>\n",
       "<style scoped>\n",
       "    .dataframe tbody tr th:only-of-type {\n",
       "        vertical-align: middle;\n",
       "    }\n",
       "\n",
       "    .dataframe tbody tr th {\n",
       "        vertical-align: top;\n",
       "    }\n",
       "\n",
       "    .dataframe thead th {\n",
       "        text-align: right;\n",
       "    }\n",
       "</style>\n",
       "<table border=\"1\" class=\"dataframe\">\n",
       "  <thead>\n",
       "    <tr style=\"text-align: right;\">\n",
       "      <th></th>\n",
       "      <th>Agent -1</th>\n",
       "      <th>Agent 1</th>\n",
       "      <th>Scores</th>\n",
       "      <th>Steps</th>\n",
       "      <th>mean_scores</th>\n",
       "    </tr>\n",
       "    <tr>\n",
       "      <th>Pool id</th>\n",
       "      <th></th>\n",
       "      <th></th>\n",
       "      <th></th>\n",
       "      <th></th>\n",
       "      <th></th>\n",
       "    </tr>\n",
       "  </thead>\n",
       "  <tbody>\n",
       "    <tr>\n",
       "      <th>0</th>\n",
       "      <td>Step Analyst Player 0 | False</td>\n",
       "      <td>Step Analyst Player 0 | False</td>\n",
       "      <td>[-9]</td>\n",
       "      <td>[35]</td>\n",
       "      <td>-9.0</td>\n",
       "    </tr>\n",
       "    <tr>\n",
       "      <th>1</th>\n",
       "      <td>Step Analyst Player 0 | False</td>\n",
       "      <td>Step Analyst Player 0 | False</td>\n",
       "      <td>[3]</td>\n",
       "      <td>[37]</td>\n",
       "      <td>3.0</td>\n",
       "    </tr>\n",
       "    <tr>\n",
       "      <th>2</th>\n",
       "      <td>Step Analyst Player 0 | False</td>\n",
       "      <td>Step Analyst Player 0 | False</td>\n",
       "      <td>[1]</td>\n",
       "      <td>[35]</td>\n",
       "      <td>1.0</td>\n",
       "    </tr>\n",
       "    <tr>\n",
       "      <th>3</th>\n",
       "      <td>Step Analyst Player 0 | False</td>\n",
       "      <td>Step Analyst Player 0 | False</td>\n",
       "      <td>[3]</td>\n",
       "      <td>[35]</td>\n",
       "      <td>3.0</td>\n",
       "    </tr>\n",
       "    <tr>\n",
       "      <th>4</th>\n",
       "      <td>Step Analyst Player 0 | False</td>\n",
       "      <td>Step Analyst Player 0 | False</td>\n",
       "      <td>[-1]</td>\n",
       "      <td>[32]</td>\n",
       "      <td>-1.0</td>\n",
       "    </tr>\n",
       "  </tbody>\n",
       "</table>\n",
       "</div>"
      ],
      "text/plain": [
       "                              Agent -1                        Agent 1 Scores  \\\n",
       "Pool id                                                                        \n",
       "0        Step Analyst Player 0 | False  Step Analyst Player 0 | False   [-9]   \n",
       "1        Step Analyst Player 0 | False  Step Analyst Player 0 | False    [3]   \n",
       "2        Step Analyst Player 0 | False  Step Analyst Player 0 | False    [1]   \n",
       "3        Step Analyst Player 0 | False  Step Analyst Player 0 | False    [3]   \n",
       "4        Step Analyst Player 0 | False  Step Analyst Player 0 | False   [-1]   \n",
       "\n",
       "        Steps  mean_scores  \n",
       "Pool id                     \n",
       "0        [35]         -9.0  \n",
       "1        [37]          3.0  \n",
       "2        [35]          1.0  \n",
       "3        [35]          3.0  \n",
       "4        [32]         -1.0  "
      ]
     },
     "execution_count": 92,
     "metadata": {},
     "output_type": "execute_result"
    }
   ],
   "source": [
    "df = pd.read_csv('game_results.csv', sep=';', index_col=0)\n",
    "df['Scores'] = df['Scores'].apply(lambda x: [int(a) for a in x.replace('[', '').replace(']', '').replace(' ', '').split(',')])\n",
    "df['mean_scores'] = df['Scores'].apply(lambda x: np.mean(x))\n",
    "df.head()"
   ]
  },
  {
   "cell_type": "code",
   "execution_count": 93,
   "metadata": {},
   "outputs": [],
   "source": [
    "witness = df.loc[0, 'mean_scores']\n",
    "df['step'] = df.index\n",
    "df['step_importance'] = df.apply(lambda x: abs(x['mean_scores'] - witness), axis=1)\n",
    "m1_sum = df[df['step'] % 2 == 0]['step_importance'].sum()\n",
    "p1_sum = df[df['step'] % 2 == 1]['step_importance'].sum()\n",
    "df['step_importance'] = df.apply(lambda row: row['step_importance']/p1_sum if row['step'] % 2 == r else row['step_importance']/m1_sum, axis=1)"
   ]
  },
  {
   "cell_type": "code",
   "execution_count": 94,
   "metadata": {},
   "outputs": [
    {
     "data": {
      "image/png": "[encoded data removed]",
      "text/plain": [
       "<Figure size 640x480 with 2 Axes>"
      ]
     },
     "metadata": {},
     "output_type": "display_data"
    }
   ],
   "source": [
    "from matplotlib.pyplot import subplot\n",
    "\n",
    "fig, (ax1, ax2) = plt.subplots(2)\n",
    "fig.tight_layout(pad=5.0)\n",
    "fig.suptitle('Importance mass functions')\n",
    "\n",
    "sns.barplot(ax=ax1, data=df[df['step'] % 2 == 0], x='step', y='step_importance')\n",
    "ax1.set_title(\"Player -1\")\n",
    "ax1.set_xlabel(\"Step\")\n",
    "ax1.set_ylabel(\"Importance mass\")\n",
    "_ = ax1.set_xticklabels(np.arange(0, 40, 2), rotation=45)\n",
    "_ = ax1.set_ylim((0, .3))\n",
    "\n",
    "ax2 = sns.barplot(ax=ax2, data=df[df['step'] % 2 == 1], x='step', y='step_importance')\n",
    "ax2.set_title(\"Player 1\")\n",
    "ax2.set_xlabel(\"Step\")\n",
    "ax2.set_ylabel(\"Importance mass\")\n",
    "_ = ax2.set_xticklabels(np.arange(1, 40, 2), rotation=45)\n",
    "_ = ax2.set_ylim((0, .3))"
   ]
  },
  {
   "cell_type": "code",
   "execution_count": 63,
   "metadata": {},
   "outputs": [],
   "source": [
    "df['step_importance'].to_csv('step_importance.csv')"
   ]
  },
  {
   "cell_type": "markdown",
   "metadata": {},
   "source": [
    "## Plot game history"
   ]
  },
  {
   "cell_type": "code",
   "execution_count": 6,
   "metadata": {},
   "outputs": [
    {
     "data": {
      "image/png": "[encoded data removed]",
      "text/plain": [
       "<Figure size 640x480 with 1 Axes>"
      ]
     },
     "metadata": {},
     "output_type": "display_data"
    }
   ],
   "source": [
    "board = [ [ 0,  0,  1, -1,  0,  0,  0,  0,  0],\n",
    "                      [ 0,  1, -1,  1, -1,  0,  0,  0,  0],\n",
    "                      [ 0, -1,  1, -1,  1, -1,  1,  0,  0],\n",
    "                      [ 0,  1, -1,  1, -1,  1, -1,  1, -1],\n",
    "                      [ 1, -1,  1, -1,  0, -1,  1, -1,  1],\n",
    "                      [-1,  1, -1,  1, -1,  1, -1,  1,  0],\n",
    "                      [ 0,  0,  1, -1,  1, -1,  1, -1,  0],\n",
    "                      [ 0,  0,  0,  0, -1,  1, -1,  1,  0],\n",
    "                      [ 0,  0,  0,  0,  0, -1,  1,  0,  0] ]\n",
    "mask = np.array([ [ True,  True,  False, False,  True,  True,  True,  True,  True],\n",
    "                      [ True,  False, False,  False, False,  True,  True,  True,  True],\n",
    "                      [ True, False,  False, False,  False, False,  False,  True,  True],\n",
    "                      [ True,  False, False,  False, False,  False, False,  False, False],\n",
    "                      [ False, False,  False, False,  True, False,  False, False,  False],\n",
    "                      [False,  False, False,  False, False,  False, False,  False,  True],\n",
    "                      [ True,  True,  False, False,  False, False,  False, False,  True],\n",
    "                      [ True,  True,  True,  True, False,  False, False,  False,  True],\n",
    "                      [ True,  True,  True,  True,  True, False,  False,  True,  True] ])\n",
    "\n",
    "fig = sns.heatmap(board, annot=True, cmap='coolwarm', cbar=False, linewidths=1, linecolor='black', square=True, mask=mask, vmin=-2, vmax=2)\n",
    "# fig.set_title(\"Représentation du plateau de jeu\")"
   ]
  },
  {
   "cell_type": "code",
   "execution_count": 56,
   "metadata": {},
   "outputs": [
    {
     "data": {
      "image/png": "[encoded data removed]",
      "text/plain": [
       "<Figure size 640x480 with 1 Axes>"
      ]
     },
     "metadata": {},
     "output_type": "display_data"
    }
   ],
   "source": [
    "board = [[0, 0, 0, -5, 0, 0, 0, 0, 0], [0, 0, 0, 0, 0, 0, 0, 0, 0], [0, 0, 5, 0, 0, 4, 0, 0, 0], [0, 0, 0, -5, 0, 0, 0, 0, 0], [-4, 0, 0, -1, 0, 0, -5, -3, 0], [0, 0, -1, 1, -1, 0, 0, 1, 0], [0, 0, 1, -1, 1, -1, 1, -1, 0], [0, 0, 0, 0, -1, 0, 0, 0, 0], [0, 0, 0, 0, 0, 0, -5, 0, 0]]\n",
    "actions = [(4, 3, 5, 2), (4, 3, 5, 3), (4, 3, 5, 4), (4, 7, 5, 7), (5, 2, 4, 3), (5, 2, 5, 3), (5, 2, 6, 2), (5, 2, 6, 3), (5, 3, 4, 3), (5, 3, 5, 2), (5, 3, 5, 4), (5, 3, 6, 2), (5, 3, 6, 3), (5, 3, 6, 4), (5, 4, 4, 3), (5, 4, 5, 3), (5, 4, 6, 3), (5, 4, 6, 4), (5, 4, 6, 5), (5, 7, 4, 7), (5, 7, 6, 6), (5, 7, 6, 7), (6, 2, 5, 2), (6, 2, 5, 3), (6, 2, 6, 3), (6, 3, 5, 2), (6, 3, 5, 3), (6, 3, 5, 4), (6, 3, 6, 2), (6, 3, 6, 4), (6, 3, 7, 4), (6, 4, 5, 3), (6, 4, 5, 4), (6, 4, 6, 3), (6, 4, 6, 5), (6, 4, 7, 4), (6, 5, 5, 4), (6, 5, 6, 4), (6, 5, 6, 6), (6, 5, 7, 4), (6, 6, 5, 7), (6, 6, 6, 5), (6, 6, 6, 7), (6, 7, 5, 7), (6, 7, 6, 6), (7, 4, 6, 3), (7, 4, 6, 4), (7, 4, 6, 5)]\n",
    "mask = np.array([ [ True,  True,  False, False,  True,  True,  True,  True,  True],\n",
    "                      [ True,  False, False,  False, False,  True,  True,  True,  True],\n",
    "                      [ True, False,  False, False,  False, False,  False,  True,  True],\n",
    "                      [ True,  False, False,  False, False,  False, False,  False, False],\n",
    "                      [ False, False,  False, False,  True, False,  False, False,  False],\n",
    "                      [False,  False, False,  False, False,  False, False,  False,  True],\n",
    "                      [ True,  True,  False, False,  False, False,  False, False,  True],\n",
    "                      [ True,  True,  True,  True, False,  False, False,  False,  True],\n",
    "                      [ True,  True,  True,  True,  True, False,  False,  True,  True] ])\n",
    "\n",
    "fig = sns.heatmap(board, annot=True, cmap='coolwarm', cbar=False, linewidths=1, linecolor='black', square=True, mask=mask, vmin=-2, vmax=2)\n",
    "\n",
    "for action in actions:\n",
    "    d = 0.12\n",
    "    ddy = d if action[0] - action[2] < 0 else -d if action[0] - action[2] > 0 else 0\n",
    "    ddx = d if action[1] - action[3] < 0 else -d if action[1] - action[3] > 0 else 0\n",
    "    fig.arrow(y=action[0]+.5+ddy, x=action[1]+.5+ddx, dy=action[2]-action[0]-2*ddy, dx=action[3]-action[1]-2*ddx, color='black', head_width=.2, head_length=.2, length_includes_head=True, width=.01, zorder=1, overhang=.5, shape='full', lw=1, ls='-')\n",
    "\n",
    "#  fig.set_title(\"Représentation du plateau de jeu\")"
   ]
  },
  {
   "cell_type": "code",
   "execution_count": 57,
   "metadata": {},
   "outputs": [
    {
     "data": {
      "image/png": "[encoded data removed]",
      "text/plain": [
       "<Figure size 640x480 with 1 Axes>"
      ]
     },
     "metadata": {},
     "output_type": "display_data"
    }
   ],
   "source": [
    "board = [[0, 0, 0, -5, 0, 0, 0, 0, 0], [0, 0, 0, 0, 0, 0, 0, 0, 0], [0, 0, -5, 0, 0, 0, 5, 0, 0], [0, 0, 0, 0, 0, 0, 0, 0, 0], [-2, 0, 0, -5, 0, 3, 0, -5, 1], [0, 0, 0, 0, 0, 0, 5, 1, 0], [0, 0, 5, 0, 0, 0, 0, 0, 0], [0, 0, 0, 0, -1, 0, -5, 0, 0], [0, 0, 0, 0, 0, 0, 0, 0, 0]]\n",
    "mask = np.array([ [ True,  True,  False, False,  True,  True,  True,  True,  True],\n",
    "                      [ True,  False, False,  False, False,  True,  True,  True,  True],\n",
    "                      [ True, False,  False, False,  False, False,  False,  True,  True],\n",
    "                      [ True,  False, False,  False, False,  False, False,  False, False],\n",
    "                      [ False, False,  False, False,  True, False,  False, False,  False],\n",
    "                      [False,  False, False,  False, False,  False, False,  False,  True],\n",
    "                      [ True,  True,  False, False,  False, False,  False, False,  True],\n",
    "                      [ True,  True,  True,  True, False,  False, False,  False,  True],\n",
    "                      [ True,  True,  True,  True,  True, False,  False,  True,  True] ])\n",
    "\n",
    "fig = sns.heatmap(board, annot=True, cmap='coolwarm', cbar=False, linewidths=1, linecolor='black', square=True, mask=mask, vmin=-2, vmax=2)\n",
    "# fig.set_title(\"Représentation du plateau de jeu\")"
   ]
  }
 ],
 "metadata": {
  "kernelspec": {
   "display_name": "Python 3.10.6 64-bit",
   "language": "python",
   "name": "python3"
  },
  "language_info": {
   "codemirror_mode": {
    "name": "ipython",
    "version": 3
   },
   "file_extension": ".py",
   "mimetype": "text/x-python",
   "name": "python",
   "nbconvert_exporter": "python",
   "pygments_lexer": "ipython3",
   "version": "3.10.6"
  },
  "orig_nbformat": 4,
  "vscode": {
   "interpreter": {
    "hash": "aee8b7b246df8f9039afb4144a1f6fd8d2ca17a180786b69acc140d282b71a49"
   }
  }
 },
 "nbformat": 4,
 "nbformat_minor": 2
}
