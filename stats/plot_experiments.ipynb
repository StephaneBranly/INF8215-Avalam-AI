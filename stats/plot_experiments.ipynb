{
 "cells": [
  {
   "cell_type": "markdown",
   "metadata": {},
   "source": [
    "# Notebook used to manipulate some produced data"
   ]
  },
  {
   "cell_type": "markdown",
   "metadata": {},
   "source": [
    "## Import of librairies"
   ]
  },
  {
   "cell_type": "code",
   "execution_count": 3,
   "metadata": {},
   "outputs": [],
   "source": [
    "import seaborn as sns\n",
    "import matplotlib.pyplot as plt\n",
    "import pandas as pd\n",
    "import numpy as np\n",
    "import matplotlib.patches as mpatches"
   ]
  },
  {
   "cell_type": "markdown",
   "metadata": {},
   "source": [
    "## Plots of game results"
   ]
  },
  {
   "cell_type": "code",
   "execution_count": 6,
   "metadata": {},
   "outputs": [],
   "source": [
    "df = pd.read_csv('game_results.csv', sep=';', index_col=0)"
   ]
  },
  {
   "cell_type": "code",
   "execution_count": null,
   "metadata": {},
   "outputs": [],
   "source": [
    "df['Scores'] = df['Scores'].apply(lambda x: [int(a) for a in x.replace('[', '').replace(']', '').replace(' ', '').split(',')])\n",
    "df['mean_scores'] = df['Scores'].apply(lambda x: np.mean(x))"
   ]
  },
  {
   "cell_type": "code",
   "execution_count": null,
   "metadata": {},
   "outputs": [],
   "source": [
    "df['Steps'] = df['Steps'].apply(lambda x: [int(a) for a in x.replace('[', '').replace(']', '').replace(' ', '').split(',')])"
   ]
  },
  {
   "cell_type": "code",
   "execution_count": null,
   "metadata": {},
   "outputs": [
    {
     "data": {
      "text/plain": [
       "Pool id\n",
       "0    -0.06\n",
       "1     0.36\n",
       "2     0.83\n",
       "3     0.84\n",
       "4     0.27\n",
       "5     0.07\n",
       "6     0.21\n",
       "7     0.35\n",
       "8     0.01\n",
       "9     0.54\n",
       "10    0.23\n",
       "11    0.47\n",
       "12    0.24\n",
       "13    0.37\n",
       "Name: mean_scores, dtype: float64"
      ]
     },
     "execution_count": 5,
     "metadata": {},
     "output_type": "execute_result"
    }
   ],
   "source": [
    "df['mean_scores']"
   ]
  },
  {
   "cell_type": "code",
   "execution_count": null,
   "metadata": {},
   "outputs": [
    {
     "data": {
      "text/html": [
       "<div>\n",
       "<style scoped>\n",
       "    .dataframe tbody tr th:only-of-type {\n",
       "        vertical-align: middle;\n",
       "    }\n",
       "\n",
       "    .dataframe tbody tr th {\n",
       "        vertical-align: top;\n",
       "    }\n",
       "\n",
       "    .dataframe thead th {\n",
       "        text-align: right;\n",
       "    }\n",
       "</style>\n",
       "<table border=\"1\" class=\"dataframe\">\n",
       "  <thead>\n",
       "    <tr style=\"text-align: right;\">\n",
       "      <th></th>\n",
       "      <th>Agent -1</th>\n",
       "      <th>Agent 1</th>\n",
       "      <th>Scores</th>\n",
       "      <th>Steps</th>\n",
       "      <th>mean_scores</th>\n",
       "    </tr>\n",
       "    <tr>\n",
       "      <th>Pool id</th>\n",
       "      <th></th>\n",
       "      <th></th>\n",
       "      <th></th>\n",
       "      <th></th>\n",
       "      <th></th>\n",
       "    </tr>\n",
       "  </thead>\n",
       "  <tbody>\n",
       "    <tr>\n",
       "      <th>0</th>\n",
       "      <td>Step Analyst Player 1 | False</td>\n",
       "      <td>Step Analyst Player 1 | True</td>\n",
       "      <td>[1, 1, -1, 4, 2, -1, -4, -1, 7, -1, 1, -3, -1,...</td>\n",
       "      <td>[36, 35, 35, 36, 34, 37, 34, 36, 35, 35, 35, 3...</td>\n",
       "      <td>-0.06</td>\n",
       "    </tr>\n",
       "    <tr>\n",
       "      <th>1</th>\n",
       "      <td>Step Analyst Player 2 | False</td>\n",
       "      <td>Step Analyst Player 2 | True</td>\n",
       "      <td>[-1, 3, -2, -2, 2, 1, 4, 4, -5, -1, 3, 1, 9, -...</td>\n",
       "      <td>[36, 37, 36, 34, 36, 35, 36, 36, 35, 37, 35, 3...</td>\n",
       "      <td>0.36</td>\n",
       "    </tr>\n",
       "  </tbody>\n",
       "</table>\n",
       "</div>"
      ],
      "text/plain": [
       "                              Agent -1                       Agent 1  \\\n",
       "Pool id                                                                \n",
       "0        Step Analyst Player 1 | False  Step Analyst Player 1 | True   \n",
       "1        Step Analyst Player 2 | False  Step Analyst Player 2 | True   \n",
       "\n",
       "                                                    Scores  \\\n",
       "Pool id                                                      \n",
       "0        [1, 1, -1, 4, 2, -1, -4, -1, 7, -1, 1, -3, -1,...   \n",
       "1        [-1, 3, -2, -2, 2, 1, 4, 4, -5, -1, 3, 1, 9, -...   \n",
       "\n",
       "                                                     Steps  mean_scores  \n",
       "Pool id                                                                  \n",
       "0        [36, 35, 35, 36, 34, 37, 34, 36, 35, 35, 35, 3...        -0.06  \n",
       "1        [36, 37, 36, 34, 36, 35, 36, 36, 35, 37, 35, 3...         0.36  "
      ]
     },
     "execution_count": 6,
     "metadata": {},
     "output_type": "execute_result"
    }
   ],
   "source": [
    "df.head(2)"
   ]
  },
  {
   "cell_type": "markdown",
   "metadata": {},
   "source": [
    "See pools tendencies"
   ]
  },
  {
   "cell_type": "code",
   "execution_count": null,
   "metadata": {},
   "outputs": [],
   "source": [
    "sns.set_theme()\n",
    "x_ticks = np.arange(-20, 22, 2)\n",
    "y_ticks = np.arange(0, len(df['Scores']), 1)\n",
    "\n",
    "fig = sns.violinplot(data=df['Scores'], palette=\"flare\", inner=\"points\", orient=\"h\")\n",
    "# Tendency of the mean score\n",
    "z = np.polyfit(y_ticks, df['mean_scores'], 1)\n",
    "p = np.poly1d(z)\n",
    "fig.plot(p(y_ticks), y_ticks, c=\"green\", ls=\":\", label=\"Tendency\", linewidth=2)\n",
    "fig.set(xlim=(-20, 20))\n",
    "rect_p1=mpatches.Rectangle((0,-1),20,5, alpha=0.1,facecolor=\"red\")\n",
    "rect_m1=mpatches.Rectangle((-20,-1),20,5, alpha=0.1,facecolor=\"blue\")\n",
    "\n",
    "fig.set(title='Score distribution for each pool', xlabel='Scores', ylabel='Pool', xticks=x_ticks)\n",
    "fig.set_xticklabels(x_ticks, rotation=45)\n",
    "fig.text(10, -0.1, 'Player +1', fontsize = 10, color='red', ha='center')\n",
    "fig.text(-10, -0.1, 'Player -1', fontsize = 10, color='blue', ha='center')\n",
    "fig.add_line(plt.axvline(x=0, color='grey', linestyle='--'))\n",
    "fig.add_patch(rect_p1)\n",
    "fig.add_patch(rect_m1)\n",
    "\n",
    "for row in df.iterrows():\n",
    "    fig.text(-20, row[0]+0.2, str(row[1]['Agent -1']), color='grey', ha=\"left\", fontsize=8)\n",
    "    fig.text(20, row[0]+0.2, str(row[1]['Agent 1']), color='grey', ha=\"right\", fontsize=8)"
   ]
  },
  {
   "cell_type": "markdown",
   "metadata": {},
   "source": [
    "See step distribution for each pool"
   ]
  },
  {
   "cell_type": "code",
   "execution_count": null,
   "metadata": {},
   "outputs": [],
   "source": [
    "sns.set_theme()\n",
    "x_ticks = np.arange(20, 46, 2)\n",
    "y_ticks = np.arange(0, len(df['Steps']), 1)\n",
    "\n",
    "fig = sns.violinplot(data=df['Steps'], palette=\"flare\", inner=\"points\", orient=\"h\")\n",
    "fig.set(xlim=(20, 46))\n",
    "\n",
    "fig.set(title='Step distribution for each pool', xlabel='Steps', ylabel='Pool', xticks=x_ticks)\n",
    "fig.set_xticklabels(x_ticks, rotation=45)\n"
   ]
  },
  {
   "cell_type": "markdown",
   "metadata": {},
   "source": [
    "See pool results"
   ]
  },
  {
   "cell_type": "code",
   "execution_count": null,
   "metadata": {},
   "outputs": [],
   "source": [
    "df = pd.read_csv('pool_results.csv', sep=';', index_col=0)"
   ]
  },
  {
   "cell_type": "code",
   "execution_count": null,
   "metadata": {},
   "outputs": [],
   "source": [
    "\n",
    "df['Cumulative_m1'] = df['Pct Agent -1'] * 100\n",
    "\n",
    "df['Cumulative_draw'] = df['Pct Draw']*100 + df['Pct Agent -1']*100\n",
    "df['Cumulative_p1'] = df['Cumulative_draw'] + df['Pct Agent 1']*100\n",
    "\n",
    "bar_p1 = sns.barplot(x=df.index, y=\"Cumulative_p1\", data=df, color='red')\n",
    "bar_draw = sns.barplot(x=df.index, y=\"Cumulative_draw\", data=df, color='orange')\n",
    "bar_m1 = sns.barplot(x=df.index, y=\"Cumulative_m1\", data=df, color='blue')\n",
    "\n",
    "\n",
    "m1_bar = mpatches.Patch(color='blue', label='Agent -1')\n",
    "draw_bar = mpatches.Patch(color='orange', label='Draw')\n",
    "p1_bar = mpatches.Patch(color='red', label='Agent 1')\n",
    "\n",
    "for row in df.iterrows():\n",
    "    if row[1]['Pct Agent -1'] != 0:\n",
    "        plt.text(row[0], 1,str(row[1]['Agent -1']), color='white', ha=\"center\", fontsize=8)\n",
    "        plt.text(row[0], row[1]['Cumulative_m1']/2, str(int(row[1]['Pct Agent -1']*100))+'%', color='white', ha=\"center\", fontsize=9)\n",
    "    if row[1]['Pct Draw'] != 0:\n",
    "        plt.text(row[0], row[1]['Cumulative_m1']+1, 'Draw', color='white', ha=\"center\", fontsize=8)\n",
    "        plt.text(row[0], row[1]['Cumulative_m1']+row[1]['Pct Draw']*50, str(int(row[1]['Pct Draw']*100))+'%', color='white', ha=\"center\", fontsize=9)\n",
    "    if row[1]['Pct Agent 1'] != 0:\n",
    "        plt.text(row[0], row[1]['Cumulative_draw']+1,str(row[1]['Agent 1']), color='white', ha=\"center\", fontsize=8)\n",
    "        plt.text(row[0], row[1]['Cumulative_draw']+row[1]['Pct Agent 1']*50, str(int(row[1]['Pct Agent 1']*100))+'%', color='white', ha=\"center\", fontsize=9)\n",
    "\n",
    "\n",
    "plt.ylim((0,100))\n",
    "plt.title('Pourcentage of win for each agent in each pool')\n",
    "plt.ylabel('Pourcentage')\n",
    "plt.legend(handles=[m1_bar, draw_bar, p1_bar])\n",
    "plt.show()\n"
   ]
  },
  {
   "cell_type": "markdown",
   "metadata": {},
   "source": [
    "## Plot of genetics algorithm"
   ]
  },
  {
   "cell_type": "code",
   "execution_count": null,
   "metadata": {},
   "outputs": [],
   "source": [
    "import json\n",
    "params_df = {}\n",
    "nb_gen = 14\n",
    "nb_ind = 10\n",
    "for gen in range(14):\n",
    "    filename = f\"../NN_MT2/gen{gen}.json\"\n",
    "\n",
    "    with open(filename) as f:\n",
    "        listObj = json.load(f)\n",
    "        for ind in range(10):\n",
    "            for param in range(len(listObj['gen'][ind]['parameters'])):\n",
    "                if param not in params_df:\n",
    "                    params_df[param] = pd.DataFrame()\n",
    "                params_df[param].loc[gen, ind] = listObj['gen'][ind]['parameters'][param]"
   ]
  },
  {
   "cell_type": "code",
   "execution_count": null,
   "metadata": {},
   "outputs": [
    {
     "data": {
      "text/plain": [
       "(14, 10)"
      ]
     },
     "execution_count": 87,
     "metadata": {},
     "output_type": "execute_result"
    }
   ],
   "source": [
    "params_df[0]"
   ]
  },
  {
   "cell_type": "code",
   "execution_count": null,
   "metadata": {},
   "outputs": [
    {
     "data": {
      "text/plain": [
       "0   -0.058222\n",
       "1   -0.579322\n",
       "2   -0.215989\n",
       "3    0.844692\n",
       "4    0.259493\n",
       "5   -0.255051\n",
       "6   -0.758268\n",
       "7   -0.883194\n",
       "8    0.286370\n",
       "9    0.820507\n",
       "Name: 0, dtype: float64"
      ]
     },
     "execution_count": 26,
     "metadata": {},
     "output_type": "execute_result"
    }
   ],
   "source": [
    "params_df[0].iloc[0,:]"
   ]
  },
  {
   "cell_type": "markdown",
   "metadata": {},
   "source": [
    "See eventual parameter convergence"
   ]
  },
  {
   "cell_type": "code",
   "execution_count": null,
   "metadata": {},
   "outputs": [],
   "source": [
    "param = 4\n",
    "\n",
    "def plot_param_evolution(param, function_name=None):\n",
    "    x_ticks = np.arange(0, nb_gen, 1)\n",
    "    y_ticks = np.arange(-1, 1.1, 0.1)\n",
    "\n",
    "    fig=plt.figure()\n",
    "    ax=fig.add_subplot(111)\n",
    "\n",
    "\n",
    "    var = params_df[param].var(axis=1)\n",
    "    mean = params_df[param].mean(axis=1)\n",
    "    for ind in range(nb_ind):\n",
    "        ax.plot(params_df[param].index, params_df[param].iloc[:, ind], c='#666', linewidth=.5, label=None, fillstyle='none')\n",
    "\n",
    "    ax.plot(params_df[param].index, var, c='#FA5', label=f\"Diversity\", fillstyle='none')\n",
    "    ax.plot(params_df[param].index, mean, c='#3AD', linewidth=2, label=f\"Mean value\", fillstyle='none', marker=\"+\", markersize=10)\n",
    "\n",
    "    ax.set(title=f\"Evolution of the parameter {param} {'used for '+function_name if function_name else ''}\", xlabel='Generation', ylabel='Parameter value', xticks=x_ticks)\n",
    "    ax.set_xticklabels(x_ticks, rotation=45)\n",
    "    ax.add_line(plt.axhline(y=0, color='grey', linestyle='--'))\n",
    "    ax.set(ylim=(-1, 1))\n",
    "    ax.set(xlim=(0, nb_gen-1))\n",
    "    ax.text(nb_gen-1.1, mean[nb_gen-1], round(mean[nb_gen-1],2), fontsize = 15, color='darkblue', ha='right')\n",
    "    plt.legend(loc='best')"
   ]
  },
  {
   "cell_type": "code",
   "execution_count": null,
   "metadata": {},
   "outputs": [
    {
     "data": {
      "text/plain": [
       "(14, 10)"
      ]
     },
     "execution_count": 86,
     "metadata": {},
     "output_type": "execute_result"
    }
   ],
   "source": [
    "params_df[0].shape"
   ]
  },
  {
   "cell_type": "code",
   "execution_count": null,
   "metadata": {},
   "outputs": [],
   "source": [
    "from matplotlib.backends.backend_pdf import PdfPages \n",
    "with PdfPages(f\"test.pdf\") as pdf:\n",
    "        for a in range(5):\n",
    "            fig = plot_param_evolution(a, 'ete')\n",
    "            pdf.savefig(fig)"
   ]
  },
  {
   "cell_type": "markdown",
   "metadata": {},
   "source": [
    "## See tendency of available actions count depending on current step"
   ]
  },
  {
   "cell_type": "code",
   "execution_count": 7,
   "metadata": {},
   "outputs": [],
   "source": [
    "df = pd.read_csv('available_actions.csv', sep=',', header=None)"
   ]
  },
  {
   "cell_type": "code",
   "execution_count": 8,
   "metadata": {},
   "outputs": [
    {
     "data": {
      "text/plain": [
       "(233573, 51)"
      ]
     },
     "execution_count": 8,
     "metadata": {},
     "output_type": "execute_result"
    }
   ],
   "source": [
    "df = df[df[33] != 0]\n",
    "df.shape"
   ]
  },
  {
   "cell_type": "code",
   "execution_count": 9,
   "metadata": {},
   "outputs": [
    {
     "data": {
      "image/png": "[encoded data removed]",
      "text/plain": [
       "<Figure size 432x288 with 1 Axes>"
      ]
     },
     "metadata": {
      "needs_background": "light"
     },
     "output_type": "display_data"
    }
   ],
   "source": [
    "ax = sns.boxplot(data=df)\n",
    "ax.plot(df.mean(axis=0), color='red', linewidth=2, label='Mean', linestyle='--')\n",
    "ax.set_title(\"Number of available actions per step\")\n",
    "ax.set_xlabel(\"Step\")\n",
    "ax.set_xlim((0, 40))\n",
    "ticks = np.arange(0, 40, 5)\n",
    "ax.set_xticks(ticks)\n",
    "ax.set_xticklabels(ticks,)\n",
    "_ = ax.set_ylabel(\"Number of available actions\")"
   ]
  },
  {
   "cell_type": "code",
   "execution_count": 13,
   "metadata": {},
   "outputs": [
    {
     "data": {
      "text/html": [
       "<div>\n",
       "<style scoped>\n",
       "    .dataframe tbody tr th:only-of-type {\n",
       "        vertical-align: middle;\n",
       "    }\n",
       "\n",
       "    .dataframe tbody tr th {\n",
       "        vertical-align: top;\n",
       "    }\n",
       "\n",
       "    .dataframe thead th {\n",
       "        text-align: right;\n",
       "    }\n",
       "</style>\n",
       "<table border=\"1\" class=\"dataframe\">\n",
       "  <thead>\n",
       "    <tr style=\"text-align: right;\">\n",
       "      <th></th>\n",
       "      <th>mean</th>\n",
       "    </tr>\n",
       "  </thead>\n",
       "  <tbody>\n",
       "    <tr>\n",
       "      <th>0</th>\n",
       "      <td>292.000000</td>\n",
       "    </tr>\n",
       "    <tr>\n",
       "      <th>1</th>\n",
       "      <td>283.588788</td>\n",
       "    </tr>\n",
       "    <tr>\n",
       "      <th>2</th>\n",
       "      <td>273.917687</td>\n",
       "    </tr>\n",
       "    <tr>\n",
       "      <th>3</th>\n",
       "      <td>264.835131</td>\n",
       "    </tr>\n",
       "    <tr>\n",
       "      <th>4</th>\n",
       "      <td>255.001323</td>\n",
       "    </tr>\n",
       "    <tr>\n",
       "      <th>5</th>\n",
       "      <td>246.467922</td>\n",
       "    </tr>\n",
       "    <tr>\n",
       "      <th>6</th>\n",
       "      <td>235.193374</td>\n",
       "    </tr>\n",
       "    <tr>\n",
       "      <th>7</th>\n",
       "      <td>226.218724</td>\n",
       "    </tr>\n",
       "    <tr>\n",
       "      <th>8</th>\n",
       "      <td>216.327546</td>\n",
       "    </tr>\n",
       "    <tr>\n",
       "      <th>9</th>\n",
       "      <td>207.179905</td>\n",
       "    </tr>\n",
       "    <tr>\n",
       "      <th>10</th>\n",
       "      <td>198.054561</td>\n",
       "    </tr>\n",
       "    <tr>\n",
       "      <th>11</th>\n",
       "      <td>189.793144</td>\n",
       "    </tr>\n",
       "    <tr>\n",
       "      <th>12</th>\n",
       "      <td>179.764168</td>\n",
       "    </tr>\n",
       "    <tr>\n",
       "      <th>13</th>\n",
       "      <td>170.728389</td>\n",
       "    </tr>\n",
       "    <tr>\n",
       "      <th>14</th>\n",
       "      <td>161.658231</td>\n",
       "    </tr>\n",
       "    <tr>\n",
       "      <th>15</th>\n",
       "      <td>152.482530</td>\n",
       "    </tr>\n",
       "    <tr>\n",
       "      <th>16</th>\n",
       "      <td>143.018808</td>\n",
       "    </tr>\n",
       "    <tr>\n",
       "      <th>17</th>\n",
       "      <td>134.362816</td>\n",
       "    </tr>\n",
       "    <tr>\n",
       "      <th>18</th>\n",
       "      <td>125.674997</td>\n",
       "    </tr>\n",
       "    <tr>\n",
       "      <th>19</th>\n",
       "      <td>116.465696</td>\n",
       "    </tr>\n",
       "    <tr>\n",
       "      <th>20</th>\n",
       "      <td>106.593116</td>\n",
       "    </tr>\n",
       "    <tr>\n",
       "      <th>21</th>\n",
       "      <td>98.990174</td>\n",
       "    </tr>\n",
       "    <tr>\n",
       "      <th>22</th>\n",
       "      <td>91.547927</td>\n",
       "    </tr>\n",
       "    <tr>\n",
       "      <th>23</th>\n",
       "      <td>83.323937</td>\n",
       "    </tr>\n",
       "    <tr>\n",
       "      <th>24</th>\n",
       "      <td>76.097751</td>\n",
       "    </tr>\n",
       "    <tr>\n",
       "      <th>25</th>\n",
       "      <td>68.635407</td>\n",
       "    </tr>\n",
       "    <tr>\n",
       "      <th>26</th>\n",
       "      <td>60.941402</td>\n",
       "    </tr>\n",
       "    <tr>\n",
       "      <th>27</th>\n",
       "      <td>53.584635</td>\n",
       "    </tr>\n",
       "    <tr>\n",
       "      <th>28</th>\n",
       "      <td>45.775839</td>\n",
       "    </tr>\n",
       "    <tr>\n",
       "      <th>29</th>\n",
       "      <td>38.769156</td>\n",
       "    </tr>\n",
       "    <tr>\n",
       "      <th>30</th>\n",
       "      <td>32.345622</td>\n",
       "    </tr>\n",
       "    <tr>\n",
       "      <th>31</th>\n",
       "      <td>25.089912</td>\n",
       "    </tr>\n",
       "    <tr>\n",
       "      <th>32</th>\n",
       "      <td>18.872661</td>\n",
       "    </tr>\n",
       "    <tr>\n",
       "      <th>33</th>\n",
       "      <td>13.085853</td>\n",
       "    </tr>\n",
       "    <tr>\n",
       "      <th>34</th>\n",
       "      <td>7.593087</td>\n",
       "    </tr>\n",
       "    <tr>\n",
       "      <th>35</th>\n",
       "      <td>3.113596</td>\n",
       "    </tr>\n",
       "    <tr>\n",
       "      <th>36</th>\n",
       "      <td>0.720751</td>\n",
       "    </tr>\n",
       "    <tr>\n",
       "      <th>37</th>\n",
       "      <td>0.056411</td>\n",
       "    </tr>\n",
       "    <tr>\n",
       "      <th>38</th>\n",
       "      <td>0.000000</td>\n",
       "    </tr>\n",
       "    <tr>\n",
       "      <th>39</th>\n",
       "      <td>0.000000</td>\n",
       "    </tr>\n",
       "    <tr>\n",
       "      <th>40</th>\n",
       "      <td>0.000000</td>\n",
       "    </tr>\n",
       "    <tr>\n",
       "      <th>41</th>\n",
       "      <td>0.000000</td>\n",
       "    </tr>\n",
       "    <tr>\n",
       "      <th>42</th>\n",
       "      <td>0.000000</td>\n",
       "    </tr>\n",
       "    <tr>\n",
       "      <th>43</th>\n",
       "      <td>0.000000</td>\n",
       "    </tr>\n",
       "    <tr>\n",
       "      <th>44</th>\n",
       "      <td>0.000000</td>\n",
       "    </tr>\n",
       "    <tr>\n",
       "      <th>45</th>\n",
       "      <td>0.000000</td>\n",
       "    </tr>\n",
       "    <tr>\n",
       "      <th>46</th>\n",
       "      <td>0.000000</td>\n",
       "    </tr>\n",
       "    <tr>\n",
       "      <th>47</th>\n",
       "      <td>0.000000</td>\n",
       "    </tr>\n",
       "    <tr>\n",
       "      <th>48</th>\n",
       "      <td>0.000000</td>\n",
       "    </tr>\n",
       "    <tr>\n",
       "      <th>49</th>\n",
       "      <td>0.000000</td>\n",
       "    </tr>\n",
       "    <tr>\n",
       "      <th>50</th>\n",
       "      <td>0.000000</td>\n",
       "    </tr>\n",
       "  </tbody>\n",
       "</table>\n",
       "</div>"
      ],
      "text/plain": [
       "          mean\n",
       "0   292.000000\n",
       "1   283.588788\n",
       "2   273.917687\n",
       "3   264.835131\n",
       "4   255.001323\n",
       "5   246.467922\n",
       "6   235.193374\n",
       "7   226.218724\n",
       "8   216.327546\n",
       "9   207.179905\n",
       "10  198.054561\n",
       "11  189.793144\n",
       "12  179.764168\n",
       "13  170.728389\n",
       "14  161.658231\n",
       "15  152.482530\n",
       "16  143.018808\n",
       "17  134.362816\n",
       "18  125.674997\n",
       "19  116.465696\n",
       "20  106.593116\n",
       "21   98.990174\n",
       "22   91.547927\n",
       "23   83.323937\n",
       "24   76.097751\n",
       "25   68.635407\n",
       "26   60.941402\n",
       "27   53.584635\n",
       "28   45.775839\n",
       "29   38.769156\n",
       "30   32.345622\n",
       "31   25.089912\n",
       "32   18.872661\n",
       "33   13.085853\n",
       "34    7.593087\n",
       "35    3.113596\n",
       "36    0.720751\n",
       "37    0.056411\n",
       "38    0.000000\n",
       "39    0.000000\n",
       "40    0.000000\n",
       "41    0.000000\n",
       "42    0.000000\n",
       "43    0.000000\n",
       "44    0.000000\n",
       "45    0.000000\n",
       "46    0.000000\n",
       "47    0.000000\n",
       "48    0.000000\n",
       "49    0.000000\n",
       "50    0.000000"
      ]
     },
     "execution_count": 13,
     "metadata": {},
     "output_type": "execute_result"
    }
   ],
   "source": [
    "df_mean = pd.DataFrame({ 'mean': df.mean(axis=0), 'fac': np.ones(df.shape[1])})\n",
    "df_mean"
   ]
  },
  {
   "cell_type": "code",
   "execution_count": 11,
   "metadata": {},
   "outputs": [
    {
     "data": {
      "text/html": [
       "<div>\n",
       "<style scoped>\n",
       "    .dataframe tbody tr th:only-of-type {\n",
       "        vertical-align: middle;\n",
       "    }\n",
       "\n",
       "    .dataframe tbody tr th {\n",
       "        vertical-align: top;\n",
       "    }\n",
       "\n",
       "    .dataframe thead th {\n",
       "        text-align: right;\n",
       "    }\n",
       "</style>\n",
       "<table border=\"1\" class=\"dataframe\">\n",
       "  <thead>\n",
       "    <tr style=\"text-align: right;\">\n",
       "      <th></th>\n",
       "      <th>mean</th>\n",
       "      <th>fac</th>\n",
       "    </tr>\n",
       "  </thead>\n",
       "  <tbody>\n",
       "    <tr>\n",
       "      <th>0</th>\n",
       "      <td>292.000000</td>\n",
       "      <td>3.379921e+69</td>\n",
       "    </tr>\n",
       "    <tr>\n",
       "      <th>1</th>\n",
       "      <td>283.588788</td>\n",
       "      <td>1.157507e+67</td>\n",
       "    </tr>\n",
       "    <tr>\n",
       "      <th>2</th>\n",
       "      <td>273.917687</td>\n",
       "      <td>4.081639e+64</td>\n",
       "    </tr>\n",
       "    <tr>\n",
       "      <th>3</th>\n",
       "      <td>264.835131</td>\n",
       "      <td>1.490097e+62</td>\n",
       "    </tr>\n",
       "    <tr>\n",
       "      <th>4</th>\n",
       "      <td>255.001323</td>\n",
       "      <td>5.626508e+59</td>\n",
       "    </tr>\n",
       "    <tr>\n",
       "      <th>5</th>\n",
       "      <td>246.467922</td>\n",
       "      <td>2.206462e+57</td>\n",
       "    </tr>\n",
       "    <tr>\n",
       "      <th>6</th>\n",
       "      <td>235.193374</td>\n",
       "      <td>8.952330e+54</td>\n",
       "    </tr>\n",
       "    <tr>\n",
       "      <th>7</th>\n",
       "      <td>226.218724</td>\n",
       "      <td>3.806370e+52</td>\n",
       "    </tr>\n",
       "    <tr>\n",
       "      <th>8</th>\n",
       "      <td>216.327546</td>\n",
       "      <td>1.682606e+50</td>\n",
       "    </tr>\n",
       "    <tr>\n",
       "      <th>9</th>\n",
       "      <td>207.179905</td>\n",
       "      <td>7.778048e+47</td>\n",
       "    </tr>\n",
       "    <tr>\n",
       "      <th>10</th>\n",
       "      <td>198.054561</td>\n",
       "      <td>3.754248e+45</td>\n",
       "    </tr>\n",
       "    <tr>\n",
       "      <th>11</th>\n",
       "      <td>189.793144</td>\n",
       "      <td>1.895563e+43</td>\n",
       "    </tr>\n",
       "    <tr>\n",
       "      <th>12</th>\n",
       "      <td>179.764168</td>\n",
       "      <td>9.987519e+40</td>\n",
       "    </tr>\n",
       "    <tr>\n",
       "      <th>13</th>\n",
       "      <td>170.728389</td>\n",
       "      <td>5.555901e+38</td>\n",
       "    </tr>\n",
       "    <tr>\n",
       "      <th>14</th>\n",
       "      <td>161.658231</td>\n",
       "      <td>3.254234e+36</td>\n",
       "    </tr>\n",
       "    <tr>\n",
       "      <th>15</th>\n",
       "      <td>152.482530</td>\n",
       "      <td>2.013033e+34</td>\n",
       "    </tr>\n",
       "    <tr>\n",
       "      <th>16</th>\n",
       "      <td>143.018808</td>\n",
       "      <td>1.320173e+32</td>\n",
       "    </tr>\n",
       "    <tr>\n",
       "      <th>17</th>\n",
       "      <td>134.362816</td>\n",
       "      <td>9.230765e+29</td>\n",
       "    </tr>\n",
       "    <tr>\n",
       "      <th>18</th>\n",
       "      <td>125.674997</td>\n",
       "      <td>6.870029e+27</td>\n",
       "    </tr>\n",
       "    <tr>\n",
       "      <th>19</th>\n",
       "      <td>116.465696</td>\n",
       "      <td>5.466505e+25</td>\n",
       "    </tr>\n",
       "    <tr>\n",
       "      <th>20</th>\n",
       "      <td>106.593116</td>\n",
       "      <td>4.693661e+23</td>\n",
       "    </tr>\n",
       "    <tr>\n",
       "      <th>21</th>\n",
       "      <td>98.990174</td>\n",
       "      <td>4.403343e+21</td>\n",
       "    </tr>\n",
       "    <tr>\n",
       "      <th>22</th>\n",
       "      <td>91.547927</td>\n",
       "      <td>4.448263e+19</td>\n",
       "    </tr>\n",
       "    <tr>\n",
       "      <th>23</th>\n",
       "      <td>83.323937</td>\n",
       "      <td>4.858944e+17</td>\n",
       "    </tr>\n",
       "    <tr>\n",
       "      <th>24</th>\n",
       "      <td>76.097751</td>\n",
       "      <td>5.831391e+15</td>\n",
       "    </tr>\n",
       "    <tr>\n",
       "      <th>25</th>\n",
       "      <td>68.635407</td>\n",
       "      <td>7.663026e+13</td>\n",
       "    </tr>\n",
       "    <tr>\n",
       "      <th>26</th>\n",
       "      <td>60.941402</td>\n",
       "      <td>1.116483e+12</td>\n",
       "    </tr>\n",
       "    <tr>\n",
       "      <th>27</th>\n",
       "      <td>53.584635</td>\n",
       "      <td>1.832060e+10</td>\n",
       "    </tr>\n",
       "    <tr>\n",
       "      <th>28</th>\n",
       "      <td>45.775839</td>\n",
       "      <td>3.419002e+08</td>\n",
       "    </tr>\n",
       "    <tr>\n",
       "      <th>29</th>\n",
       "      <td>38.769156</td>\n",
       "      <td>7.469011e+06</td>\n",
       "    </tr>\n",
       "    <tr>\n",
       "      <th>30</th>\n",
       "      <td>32.345622</td>\n",
       "      <td>1.926534e+05</td>\n",
       "    </tr>\n",
       "    <tr>\n",
       "      <th>31</th>\n",
       "      <td>25.089912</td>\n",
       "      <td>5.956090e+03</td>\n",
       "    </tr>\n",
       "    <tr>\n",
       "      <th>32</th>\n",
       "      <td>18.872661</td>\n",
       "      <td>2.373898e+02</td>\n",
       "    </tr>\n",
       "    <tr>\n",
       "      <th>33</th>\n",
       "      <td>13.085853</td>\n",
       "      <td>1.257850e+01</td>\n",
       "    </tr>\n",
       "    <tr>\n",
       "      <th>34</th>\n",
       "      <td>7.593087</td>\n",
       "      <td>9.612291e-01</td>\n",
       "    </tr>\n",
       "    <tr>\n",
       "      <th>35</th>\n",
       "      <td>3.113596</td>\n",
       "      <td>1.265927e-01</td>\n",
       "    </tr>\n",
       "    <tr>\n",
       "      <th>36</th>\n",
       "      <td>0.720751</td>\n",
       "      <td>4.065802e-02</td>\n",
       "    </tr>\n",
       "    <tr>\n",
       "      <th>37</th>\n",
       "      <td>0.056411</td>\n",
       "      <td>5.641063e-02</td>\n",
       "    </tr>\n",
       "    <tr>\n",
       "      <th>38</th>\n",
       "      <td>0.000000</td>\n",
       "      <td>1.000000e+00</td>\n",
       "    </tr>\n",
       "    <tr>\n",
       "      <th>39</th>\n",
       "      <td>0.000000</td>\n",
       "      <td>1.000000e+00</td>\n",
       "    </tr>\n",
       "    <tr>\n",
       "      <th>40</th>\n",
       "      <td>0.000000</td>\n",
       "      <td>1.000000e+00</td>\n",
       "    </tr>\n",
       "    <tr>\n",
       "      <th>41</th>\n",
       "      <td>0.000000</td>\n",
       "      <td>1.000000e+00</td>\n",
       "    </tr>\n",
       "    <tr>\n",
       "      <th>42</th>\n",
       "      <td>0.000000</td>\n",
       "      <td>1.000000e+00</td>\n",
       "    </tr>\n",
       "    <tr>\n",
       "      <th>43</th>\n",
       "      <td>0.000000</td>\n",
       "      <td>1.000000e+00</td>\n",
       "    </tr>\n",
       "    <tr>\n",
       "      <th>44</th>\n",
       "      <td>0.000000</td>\n",
       "      <td>1.000000e+00</td>\n",
       "    </tr>\n",
       "    <tr>\n",
       "      <th>45</th>\n",
       "      <td>0.000000</td>\n",
       "      <td>1.000000e+00</td>\n",
       "    </tr>\n",
       "    <tr>\n",
       "      <th>46</th>\n",
       "      <td>0.000000</td>\n",
       "      <td>1.000000e+00</td>\n",
       "    </tr>\n",
       "    <tr>\n",
       "      <th>47</th>\n",
       "      <td>0.000000</td>\n",
       "      <td>1.000000e+00</td>\n",
       "    </tr>\n",
       "    <tr>\n",
       "      <th>48</th>\n",
       "      <td>0.000000</td>\n",
       "      <td>1.000000e+00</td>\n",
       "    </tr>\n",
       "    <tr>\n",
       "      <th>49</th>\n",
       "      <td>0.000000</td>\n",
       "      <td>1.000000e+00</td>\n",
       "    </tr>\n",
       "    <tr>\n",
       "      <th>50</th>\n",
       "      <td>0.000000</td>\n",
       "      <td>1.000000e+00</td>\n",
       "    </tr>\n",
       "  </tbody>\n",
       "</table>\n",
       "</div>"
      ],
      "text/plain": [
       "          mean           fac\n",
       "0   292.000000  3.379921e+69\n",
       "1   283.588788  1.157507e+67\n",
       "2   273.917687  4.081639e+64\n",
       "3   264.835131  1.490097e+62\n",
       "4   255.001323  5.626508e+59\n",
       "5   246.467922  2.206462e+57\n",
       "6   235.193374  8.952330e+54\n",
       "7   226.218724  3.806370e+52\n",
       "8   216.327546  1.682606e+50\n",
       "9   207.179905  7.778048e+47\n",
       "10  198.054561  3.754248e+45\n",
       "11  189.793144  1.895563e+43\n",
       "12  179.764168  9.987519e+40\n",
       "13  170.728389  5.555901e+38\n",
       "14  161.658231  3.254234e+36\n",
       "15  152.482530  2.013033e+34\n",
       "16  143.018808  1.320173e+32\n",
       "17  134.362816  9.230765e+29\n",
       "18  125.674997  6.870029e+27\n",
       "19  116.465696  5.466505e+25\n",
       "20  106.593116  4.693661e+23\n",
       "21   98.990174  4.403343e+21\n",
       "22   91.547927  4.448263e+19\n",
       "23   83.323937  4.858944e+17\n",
       "24   76.097751  5.831391e+15\n",
       "25   68.635407  7.663026e+13\n",
       "26   60.941402  1.116483e+12\n",
       "27   53.584635  1.832060e+10\n",
       "28   45.775839  3.419002e+08\n",
       "29   38.769156  7.469011e+06\n",
       "30   32.345622  1.926534e+05\n",
       "31   25.089912  5.956090e+03\n",
       "32   18.872661  2.373898e+02\n",
       "33   13.085853  1.257850e+01\n",
       "34    7.593087  9.612291e-01\n",
       "35    3.113596  1.265927e-01\n",
       "36    0.720751  4.065802e-02\n",
       "37    0.056411  5.641063e-02\n",
       "38    0.000000  1.000000e+00\n",
       "39    0.000000  1.000000e+00\n",
       "40    0.000000  1.000000e+00\n",
       "41    0.000000  1.000000e+00\n",
       "42    0.000000  1.000000e+00\n",
       "43    0.000000  1.000000e+00\n",
       "44    0.000000  1.000000e+00\n",
       "45    0.000000  1.000000e+00\n",
       "46    0.000000  1.000000e+00\n",
       "47    0.000000  1.000000e+00\n",
       "48    0.000000  1.000000e+00\n",
       "49    0.000000  1.000000e+00\n",
       "50    0.000000  1.000000e+00"
      ]
     },
     "execution_count": 11,
     "metadata": {},
     "output_type": "execute_result"
    }
   ],
   "source": [
    "df_mean\n",
    "for i in range(50):\n",
    "    df_mean.loc[i, 'fac'] = 1\n",
    "    for j in range(i, 50):\n",
    "        df_mean.loc[i, 'fac'] *= df_mean.loc[j, 'mean'] if df_mean.loc[j, 'mean'] > 0 else 1\n",
    "df_mean"
   ]
  },
  {
   "cell_type": "markdown",
   "metadata": {},
   "source": [
    "## See an eventual importance of step"
   ]
  },
  {
   "cell_type": "markdown",
   "metadata": {},
   "source": [
    "Run ```python3 ./game.py --headless --no-gui -M -G 100 -P 40 --stats```\n",
    "using two ```StepAnalystPlayer```"
   ]
  },
  {
   "cell_type": "code",
   "execution_count": null,
   "metadata": {},
   "outputs": [
    {
     "data": {
      "text/html": [
       "<div>\n",
       "<style scoped>\n",
       "    .dataframe tbody tr th:only-of-type {\n",
       "        vertical-align: middle;\n",
       "    }\n",
       "\n",
       "    .dataframe tbody tr th {\n",
       "        vertical-align: top;\n",
       "    }\n",
       "\n",
       "    .dataframe thead th {\n",
       "        text-align: right;\n",
       "    }\n",
       "</style>\n",
       "<table border=\"1\" class=\"dataframe\">\n",
       "  <thead>\n",
       "    <tr style=\"text-align: right;\">\n",
       "      <th></th>\n",
       "      <th>Agent -1</th>\n",
       "      <th>Agent 1</th>\n",
       "      <th>Scores</th>\n",
       "      <th>Steps</th>\n",
       "      <th>mean_scores</th>\n",
       "    </tr>\n",
       "    <tr>\n",
       "      <th>Pool id</th>\n",
       "      <th></th>\n",
       "      <th></th>\n",
       "      <th></th>\n",
       "      <th></th>\n",
       "      <th></th>\n",
       "    </tr>\n",
       "  </thead>\n",
       "  <tbody>\n",
       "    <tr>\n",
       "      <th>0</th>\n",
       "      <td>Step Analyst Player 0 | False</td>\n",
       "      <td>Step Analyst Player 0 | False</td>\n",
       "      <td>[-9]</td>\n",
       "      <td>[35]</td>\n",
       "      <td>-9.0</td>\n",
       "    </tr>\n",
       "    <tr>\n",
       "      <th>1</th>\n",
       "      <td>Step Analyst Player 0 | False</td>\n",
       "      <td>Step Analyst Player 0 | False</td>\n",
       "      <td>[3]</td>\n",
       "      <td>[37]</td>\n",
       "      <td>3.0</td>\n",
       "    </tr>\n",
       "    <tr>\n",
       "      <th>2</th>\n",
       "      <td>Step Analyst Player 0 | False</td>\n",
       "      <td>Step Analyst Player 0 | False</td>\n",
       "      <td>[1]</td>\n",
       "      <td>[35]</td>\n",
       "      <td>1.0</td>\n",
       "    </tr>\n",
       "    <tr>\n",
       "      <th>3</th>\n",
       "      <td>Step Analyst Player 0 | False</td>\n",
       "      <td>Step Analyst Player 0 | False</td>\n",
       "      <td>[3]</td>\n",
       "      <td>[35]</td>\n",
       "      <td>3.0</td>\n",
       "    </tr>\n",
       "    <tr>\n",
       "      <th>4</th>\n",
       "      <td>Step Analyst Player 0 | False</td>\n",
       "      <td>Step Analyst Player 0 | False</td>\n",
       "      <td>[-1]</td>\n",
       "      <td>[32]</td>\n",
       "      <td>-1.0</td>\n",
       "    </tr>\n",
       "  </tbody>\n",
       "</table>\n",
       "</div>"
      ],
      "text/plain": [
       "                              Agent -1                        Agent 1 Scores  \\\n",
       "Pool id                                                                        \n",
       "0        Step Analyst Player 0 | False  Step Analyst Player 0 | False   [-9]   \n",
       "1        Step Analyst Player 0 | False  Step Analyst Player 0 | False    [3]   \n",
       "2        Step Analyst Player 0 | False  Step Analyst Player 0 | False    [1]   \n",
       "3        Step Analyst Player 0 | False  Step Analyst Player 0 | False    [3]   \n",
       "4        Step Analyst Player 0 | False  Step Analyst Player 0 | False   [-1]   \n",
       "\n",
       "        Steps  mean_scores  \n",
       "Pool id                     \n",
       "0        [35]         -9.0  \n",
       "1        [37]          3.0  \n",
       "2        [35]          1.0  \n",
       "3        [35]          3.0  \n",
       "4        [32]         -1.0  "
      ]
     },
     "execution_count": 92,
     "metadata": {},
     "output_type": "execute_result"
    }
   ],
   "source": [
    "df = pd.read_csv('game_results.csv', sep=';', index_col=0)\n",
    "df['Scores'] = df['Scores'].apply(lambda x: [int(a) for a in x.replace('[', '').replace(']', '').replace(' ', '').split(',')])\n",
    "df['mean_scores'] = df['Scores'].apply(lambda x: np.mean(x))\n",
    "df.head()"
   ]
  },
  {
   "cell_type": "code",
   "execution_count": null,
   "metadata": {},
   "outputs": [],
   "source": [
    "witness = df.loc[0, 'mean_scores']\n",
    "df['step'] = df.index\n",
    "df['step_importance'] = df.apply(lambda x: abs(x['mean_scores'] - witness), axis=1)\n",
    "m1_sum = df[df['step'] % 2 == 0]['step_importance'].sum()\n",
    "p1_sum = df[df['step'] % 2 == 1]['step_importance'].sum()\n",
    "df['step_importance'] = df.apply(lambda row: row['step_importance']/p1_sum if row['step'] % 2 == r else row['step_importance']/m1_sum, axis=1)"
   ]
  },
  {
   "cell_type": "code",
   "execution_count": null,
   "metadata": {},
   "outputs": [
    {
     "data": {
      "image/png": "[encoded data removed]",
      "text/plain": [
       "<Figure size 640x480 with 2 Axes>"
      ]
     },
     "metadata": {},
     "output_type": "display_data"
    }
   ],
   "source": [
    "from matplotlib.pyplot import subplot\n",
    "\n",
    "fig, (ax1, ax2) = plt.subplots(2)\n",
    "fig.tight_layout(pad=5.0)\n",
    "fig.suptitle('Importance mass functions')\n",
    "\n",
    "sns.barplot(ax=ax1, data=df[df['step'] % 2 == 0], x='step', y='step_importance')\n",
    "ax1.set_title(\"Player -1\")\n",
    "ax1.set_xlabel(\"Step\")\n",
    "ax1.set_ylabel(\"Importance mass\")\n",
    "_ = ax1.set_xticklabels(np.arange(0, 40, 2), rotation=45)\n",
    "_ = ax1.set_ylim((0, .3))\n",
    "\n",
    "ax2 = sns.barplot(ax=ax2, data=df[df['step'] % 2 == 1], x='step', y='step_importance')\n",
    "ax2.set_title(\"Player 1\")\n",
    "ax2.set_xlabel(\"Step\")\n",
    "ax2.set_ylabel(\"Importance mass\")\n",
    "_ = ax2.set_xticklabels(np.arange(1, 40, 2), rotation=45)\n",
    "_ = ax2.set_ylim((0, .3))"
   ]
  },
  {
   "cell_type": "code",
   "execution_count": null,
   "metadata": {},
   "outputs": [],
   "source": [
    "df['step_importance'].to_csv('step_importance.csv')"
   ]
  },
  {
   "cell_type": "markdown",
   "metadata": {},
   "source": [
    "## Plot game history"
   ]
  },
  {
   "cell_type": "code",
   "execution_count": 3,
   "metadata": {},
   "outputs": [
    {
     "data": {
      "text/plain": [
       "Text(0.5, 1.0, ' Step 1 | Player -1 | Action (1, 2, 3, 5)')"
      ]
     },
     "execution_count": 3,
     "metadata": {},
     "output_type": "execute_result"
    },
    {
     "data": {
      "image/png": "[encoded data removed]",
      "text/plain": [
       "<Figure size 432x288 with 1 Axes>"
      ]
     },
     "metadata": {
      "needs_background": "light"
     },
     "output_type": "display_data"
    }
   ],
   "source": [
    "board = [ [ 0,  0,  1, -1,  0,  0,  0,  0,  0],\n",
    "                      [ 0,  1, -1,  1, -1,  0,  0,  0,  0],\n",
    "                      [ 0, -1,  1, -1,  1, -1,  1,  0,  0],\n",
    "                      [ 0,  1, -1,  1, -1,  1, -1,  1, -1],\n",
    "                      [ 1, -1,  1, -1,  0, -1,  1, -1,  1],\n",
    "                      [-1,  1, -1,  1, -1,  1, -1,  1,  0],\n",
    "                      [ 0,  0,  1, -1,  1, -1,  1, -1,  0],\n",
    "                      [ 0,  0,  0,  0, -1,  1, -1,  1,  0],\n",
    "                      [ 0,  0,  0,  0,  0, -1,  1,  0,  0] ]\n",
    "b2 = [[0, 0, 0, 4, 0, 0, 0, 0, 0], [0, 0, -5, 0, 0, 0, 0, 0, 0], [0, 0, 0, 0, -2, 0, -4, 0, 0], [0, 1, 0, 0, 0, 0, 0, 0, -3], [0, -1, 3, -2, 0, -1, 1, 2, 0], [3, 0, 0, 0, 2, 0, 0, 1, 0], [0, 0, 1, -1, -2, -1, 3, 2, 0], [0, 0, 0, 0, 0, 0, 2, 0, 0], [0, 0, 0, 0, 0, -1, 0, 0, 0]]\n",
    "b3 = [[0, 0, 0, -1, 0, 0, 0, 0, 0], [0, 0, 2, 0, 0, 0, 0, 0, 0], [0, 2, 3, -1, -2, -1, 1, 0, 0], [0, 1, 0, 0, 2, 0, 0, 0, 3], [0, 2, 1, -1, 0, -2, 3, -1, 0], [-3, 0, 0, 0, 0, 0, 0, 1, 0], [0, 0, -4, 0, -2, 0, 0, 0, 0], [0, 0, 0, 0, 0, 0, -5, 0, 0], [0, 0, 0, 0, 0, 4, 0, 0, 0]]\n",
    "mask = np.array([ [ True,  True,  False, False,  True,  True,  True,  True,  True],\n",
    "                      [ True,  False, False,  False, False,  True,  True,  True,  True],\n",
    "                      [ True, False,  False, False,  False, False,  False,  True,  True],\n",
    "                      [ True,  False, False,  False, False,  False, False,  False, False],\n",
    "                      [ False, False,  False, False,  True, False,  False, False,  False],\n",
    "                      [False,  False, False,  False, False,  False, False,  False,  True],\n",
    "                      [ True,  True,  False, False,  False, False,  False, False,  True],\n",
    "                      [ True,  True,  True,  True, False,  False, False,  False,  True],\n",
    "                      [ True,  True,  True,  True,  True, False,  False,  True,  True] ])\n",
    "\n",
    "#\n",
    "fig = sns.heatmap(b2, annot=True, cmap='coolwarm', cbar=False, linewidths=1, linecolor='black', square=True, mask=mask, vmin=-5, vmax=5)\n",
    "\n",
    "fig.set_title(\" Step 1 | Player -1 | Action (1, 2, 3, 5)\")"
   ]
  },
  {
   "cell_type": "code",
   "execution_count": null,
   "metadata": {},
   "outputs": [],
   "source": [
    "fig = sns.heatmap(b3, annot=True, cmap='coolwarm', cbar=False, linewidths=1, linecolor='black', square=True, mask=mask, vmin=-5, vmax=5)"
   ]
  },
  {
   "cell_type": "markdown",
   "metadata": {},
   "source": [
    "## Temps d'execution IDS"
   ]
  },
  {
   "cell_type": "code",
   "execution_count": 18,
   "metadata": {},
   "outputs": [],
   "source": [
    "data = pd.read_csv('time.csv')"
   ]
  },
  {
   "cell_type": "code",
   "execution_count": 19,
   "metadata": {},
   "outputs": [
    {
     "ename": "KeyError",
     "evalue": "'8-9'",
     "output_type": "error",
     "traceback": [
      "\u001b[1;31m---------------------------------------------------------------------------\u001b[0m",
      "\u001b[1;31mKeyError\u001b[0m                                  Traceback (most recent call last)",
      "\u001b[1;32mc:\\Prog\\Avalam-AI\\stats\\plot_experiments.ipynb Cellule 42\u001b[0m in \u001b[0;36m<cell line: 10>\u001b[1;34m()\u001b[0m\n\u001b[0;32m     <a href='vscode-notebook-cell:/c%3A/Prog/Avalam-AI/stats/plot_experiments.ipynb#X56sZmlsZQ%3D%3D?line=9'>10</a>\u001b[0m \u001b[39mfor\u001b[39;00m i, row \u001b[39min\u001b[39;00m data\u001b[39m.\u001b[39miterrows():\n\u001b[0;32m     <a href='vscode-notebook-cell:/c%3A/Prog/Avalam-AI/stats/plot_experiments.ipynb#X56sZmlsZQ%3D%3D?line=10'>11</a>\u001b[0m     \u001b[39mif\u001b[39;00m row[\u001b[39m\"\u001b[39m\u001b[39mstep\u001b[39m\u001b[39m\"\u001b[39m] \u001b[39m==\u001b[39m last_step \u001b[39mand\u001b[39;00m last_depth\u001b[39m+\u001b[39m\u001b[39m1\u001b[39m \u001b[39m==\u001b[39m row[\u001b[39m\"\u001b[39m\u001b[39mdepth\u001b[39m\u001b[39m\"\u001b[39m]:\n\u001b[1;32m---> <a href='vscode-notebook-cell:/c%3A/Prog/Avalam-AI/stats/plot_experiments.ipynb#X56sZmlsZQ%3D%3D?line=11'>12</a>\u001b[0m         dic[row[\u001b[39m\"\u001b[39;49m\u001b[39mstep\u001b[39;49m\u001b[39m\"\u001b[39;49m]][\u001b[39mstr\u001b[39;49m(\u001b[39mint\u001b[39;49m(last_depth)) \u001b[39m+\u001b[39;49m \u001b[39m\"\u001b[39;49m\u001b[39m-\u001b[39;49m\u001b[39m\"\u001b[39;49m \u001b[39m+\u001b[39;49m \u001b[39mstr\u001b[39;49m(\u001b[39mint\u001b[39;49m(row[\u001b[39m\"\u001b[39;49m\u001b[39mdepth\u001b[39;49m\u001b[39m\"\u001b[39;49m]))]\u001b[39m.\u001b[39mappend(row[\u001b[39m\"\u001b[39m\u001b[39mtime\u001b[39m\u001b[39m\"\u001b[39m] \u001b[39m/\u001b[39m last_time)\n\u001b[0;32m     <a href='vscode-notebook-cell:/c%3A/Prog/Avalam-AI/stats/plot_experiments.ipynb#X56sZmlsZQ%3D%3D?line=12'>13</a>\u001b[0m     last_depth \u001b[39m=\u001b[39m row[\u001b[39m\"\u001b[39m\u001b[39mdepth\u001b[39m\u001b[39m\"\u001b[39m]\n\u001b[0;32m     <a href='vscode-notebook-cell:/c%3A/Prog/Avalam-AI/stats/plot_experiments.ipynb#X56sZmlsZQ%3D%3D?line=13'>14</a>\u001b[0m     last_step \u001b[39m=\u001b[39m row[\u001b[39m\"\u001b[39m\u001b[39mstep\u001b[39m\u001b[39m\"\u001b[39m]\n",
      "\u001b[1;31mKeyError\u001b[0m: '8-9'"
     ]
    }
   ],
   "source": [
    "import statistics\n",
    "dic = {}\n",
    "\n",
    "for k in data[\"step\"].unique():\n",
    "    dic[k] = {\"2-3\":[], \"3-4\":[], \"4-5\":[], \"5-6\":[], \"6-7\":[], \"7-8\":[]}\n",
    "\n",
    "last_depth = -1\n",
    "last_step = -1\n",
    "last_time = -1\n",
    "for i, row in data.iterrows():\n",
    "    if row[\"step\"] == last_step and last_depth+1 == row[\"depth\"]:\n",
    "        dic[row[\"step\"]][str(int(last_depth)) + \"-\" + str(int(row[\"depth\"]))].append(row[\"time\"] / last_time)\n",
    "    last_depth = row[\"depth\"]\n",
    "    last_step = row[\"step\"]\n",
    "    last_time = row[\"time\"]\n",
    "k = 20\n",
    "dicString = \"\"\n",
    "print(sorted(dic.keys()))\n",
    "for k in sorted(dic.keys()):\n",
    "    dicString += str(k)+\":{\"\n",
    "    for kk in dic[k].keys():\n",
    "    #kk = \"3-4\"\n",
    "        if(not len(dic[k][kk]) == 0):\n",
    "            #dicString += str(kk[0])+\":\"+str(round(statistics.mean(dic[k][kk]),2))+\",\"\n",
    "            # get third decile\n",
    "            dicString += str(kk[0])+\":\"+str(round(sorted(dic[k][kk])[int(len(dic[k][kk])/4)],2))+\",\"\n",
    "            #print(\"step\",k,\"rapport\",kk,round(statistics.median(dic[k][kk]),2),\"(\",len(dic[k][kk]),\")\")\n",
    "    #remove last char\n",
    "    dicString = dicString[:-1]\n",
    "    dicString += \"},\"\n",
    "print(dicString[:-1])\n",
    "        #print(\"step\",k,\"rapport\",kk,\"min\",round(min(dic[k][kk]),2),\"med\",round(statistics.median(dic[k][kk]),2),\"max\",round(max(dic[k][kk]),2))\n"
   ]
  },
  {
   "cell_type": "code",
   "execution_count": 11,
   "metadata": {},
   "outputs": [
    {
     "data": {
      "text/plain": [
       "<AxesSubplot:xlabel='step', ylabel='time'>"
      ]
     },
     "execution_count": 11,
     "metadata": {},
     "output_type": "execute_result"
    },
    {
     "data": {
      "image/png": "[encoded data removed]",
      "text/plain": [
       "<Figure size 432x288 with 1 Axes>"
      ]
     },
     "metadata": {
      "needs_background": "light"
     },
     "output_type": "display_data"
    }
   ],
   "source": [
    "sns.lineplot(data=data, x='step', y='time', hue='depth')"
   ]
  },
  {
   "cell_type": "code",
   "execution_count": 20,
   "metadata": {},
   "outputs": [
    {
     "data": {
      "text/plain": [
       "step\n",
       "18    1.487534\n",
       "20    1.346654\n",
       "22    1.189176\n",
       "24    0.984612\n",
       "26    1.051225\n",
       "28    1.077959\n",
       "30    0.337284\n",
       "32    0.017629\n",
       "34    0.030576\n",
       "36    0.499464\n",
       "Name: time, dtype: float64"
      ]
     },
     "execution_count": 20,
     "metadata": {},
     "output_type": "execute_result"
    }
   ],
   "source": [
    "median_depth2 = data[data.depth==2].groupby('step').max()\n",
    "median_depth3 = data[data.depth==3].groupby('step').min()\n",
    "median_depth4 = data[data.depth==4].groupby('step').min()\n",
    "median_depth5 = data[data.depth==5].groupby('step').min()\n",
    "median_depth6 = data[data.depth==6].groupby('step').min()\n",
    "median_depth3['time'] / median_depth2['time']\n"
   ]
  },
  {
   "cell_type": "code",
   "execution_count": 14,
   "metadata": {},
   "outputs": [
    {
     "data": {
      "text/plain": [
       "step\n",
       "18    19.224857\n",
       "20    20.487513\n",
       "22    14.718570\n",
       "24    10.489011\n",
       "26     7.422821\n",
       "28     5.053909\n",
       "30     3.014024\n",
       "32     0.850363\n",
       "34     0.704888\n",
       "36     1.399045\n",
       "Name: time, dtype: float64"
      ]
     },
     "execution_count": 14,
     "metadata": {},
     "output_type": "execute_result"
    }
   ],
   "source": [
    "median_depth4['time'] / median_depth3['time']"
   ]
  },
  {
   "cell_type": "code",
   "execution_count": 8,
   "metadata": {},
   "outputs": [
    {
     "data": {
      "text/plain": [
       "step\n",
       "18         NaN\n",
       "20         NaN\n",
       "22         NaN\n",
       "24    2.497136\n",
       "26    2.563523\n",
       "28    2.924950\n",
       "30    1.556318\n",
       "32    0.988104\n",
       "34    1.820905\n",
       "36    1.119581\n",
       "Name: time, dtype: float64"
      ]
     },
     "execution_count": 8,
     "metadata": {},
     "output_type": "execute_result"
    }
   ],
   "source": [
    "median_depth5['time'] / median_depth4['time']"
   ]
  },
  {
   "cell_type": "code",
   "execution_count": 9,
   "metadata": {},
   "outputs": [
    {
     "data": {
      "text/plain": [
       "step\n",
       "24    9.513879\n",
       "26    4.022609\n",
       "28    2.042814\n",
       "30    1.065891\n",
       "32    0.995985\n",
       "34    0.821233\n",
       "36    1.170426\n",
       "Name: time, dtype: float64"
      ]
     },
     "execution_count": 9,
     "metadata": {},
     "output_type": "execute_result"
    }
   ],
   "source": [
    "median_depth6['time'] / median_depth5['time']"
   ]
  },
  {
   "cell_type": "code",
   "execution_count": 22,
   "metadata": {},
   "outputs": [
    {
     "data": {
      "text/html": [
       "<div>\n",
       "<style scoped>\n",
       "    .dataframe tbody tr th:only-of-type {\n",
       "        vertical-align: middle;\n",
       "    }\n",
       "\n",
       "    .dataframe tbody tr th {\n",
       "        vertical-align: top;\n",
       "    }\n",
       "\n",
       "    .dataframe thead th {\n",
       "        text-align: right;\n",
       "    }\n",
       "</style>\n",
       "<table border=\"1\" class=\"dataframe\">\n",
       "  <thead>\n",
       "    <tr style=\"text-align: right;\">\n",
       "      <th></th>\n",
       "      <th>depth</th>\n",
       "      <th>time</th>\n",
       "    </tr>\n",
       "    <tr>\n",
       "      <th>step</th>\n",
       "      <th></th>\n",
       "      <th></th>\n",
       "    </tr>\n",
       "  </thead>\n",
       "  <tbody>\n",
       "    <tr>\n",
       "      <th>18</th>\n",
       "      <td>19</td>\n",
       "      <td>19</td>\n",
       "    </tr>\n",
       "    <tr>\n",
       "      <th>20</th>\n",
       "      <td>15</td>\n",
       "      <td>15</td>\n",
       "    </tr>\n",
       "    <tr>\n",
       "      <th>22</th>\n",
       "      <td>14</td>\n",
       "      <td>14</td>\n",
       "    </tr>\n",
       "    <tr>\n",
       "      <th>24</th>\n",
       "      <td>14</td>\n",
       "      <td>14</td>\n",
       "    </tr>\n",
       "    <tr>\n",
       "      <th>26</th>\n",
       "      <td>14</td>\n",
       "      <td>14</td>\n",
       "    </tr>\n",
       "    <tr>\n",
       "      <th>28</th>\n",
       "      <td>14</td>\n",
       "      <td>14</td>\n",
       "    </tr>\n",
       "    <tr>\n",
       "      <th>30</th>\n",
       "      <td>14</td>\n",
       "      <td>14</td>\n",
       "    </tr>\n",
       "    <tr>\n",
       "      <th>32</th>\n",
       "      <td>14</td>\n",
       "      <td>14</td>\n",
       "    </tr>\n",
       "    <tr>\n",
       "      <th>34</th>\n",
       "      <td>9</td>\n",
       "      <td>9</td>\n",
       "    </tr>\n",
       "    <tr>\n",
       "      <th>36</th>\n",
       "      <td>1</td>\n",
       "      <td>1</td>\n",
       "    </tr>\n",
       "  </tbody>\n",
       "</table>\n",
       "</div>"
      ],
      "text/plain": [
       "      depth  time\n",
       "step             \n",
       "18       19    19\n",
       "20       15    15\n",
       "22       14    14\n",
       "24       14    14\n",
       "26       14    14\n",
       "28       14    14\n",
       "30       14    14\n",
       "32       14    14\n",
       "34        9     9\n",
       "36        1     1"
      ]
     },
     "execution_count": 22,
     "metadata": {},
     "output_type": "execute_result"
    }
   ],
   "source": [
    "data[data.depth==2].groupby('step').count()"
   ]
  }
 ],
 "metadata": {
  "kernelspec": {
   "display_name": "Python 3.10.4 64-bit",
   "language": "python",
   "name": "python3"
  },
  "language_info": {
   "codemirror_mode": {
    "name": "ipython",
    "version": 3
   },
   "file_extension": ".py",
   "mimetype": "text/x-python",
   "name": "python",
   "nbconvert_exporter": "python",
   "pygments_lexer": "ipython3",
   "version": "3.10.4"
  },
  "orig_nbformat": 4,
  "vscode": {
   "interpreter": {
    "hash": "8bc4b9324c9c39c3a24e7dcfda771a9f84d1f3c0c56151616037497002179884"
   }
  }
 },
 "nbformat": 4,
 "nbformat_minor": 2
}
